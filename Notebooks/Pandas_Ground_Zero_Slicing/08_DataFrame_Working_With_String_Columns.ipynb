{
 "cells": [
  {
   "cell_type": "code",
   "execution_count": 2,
   "id": "c8c52f05",
   "metadata": {},
   "outputs": [],
   "source": [
    "import pandas as pd"
   ]
  },
  {
   "cell_type": "code",
   "execution_count": 3,
   "id": "66290409",
   "metadata": {},
   "outputs": [],
   "source": [
    "df = pd.read_csv('../Data/HRData.csv')"
   ]
  },
  {
   "cell_type": "markdown",
   "id": "858a041f",
   "metadata": {},
   "source": [
    "### Find String type columns in the DataFrame"
   ]
  },
  {
   "cell_type": "code",
   "execution_count": 6,
   "id": "bfc07baa",
   "metadata": {},
   "outputs": [
    {
     "data": {
      "text/html": [
       "<div>\n",
       "<style scoped>\n",
       "    .dataframe tbody tr th:only-of-type {\n",
       "        vertical-align: middle;\n",
       "    }\n",
       "\n",
       "    .dataframe tbody tr th {\n",
       "        vertical-align: top;\n",
       "    }\n",
       "\n",
       "    .dataframe thead th {\n",
       "        text-align: right;\n",
       "    }\n",
       "</style>\n",
       "<table border=\"1\" class=\"dataframe\">\n",
       "  <thead>\n",
       "    <tr style=\"text-align: right;\">\n",
       "      <th></th>\n",
       "      <th>Employee_Name</th>\n",
       "      <th>Position</th>\n",
       "      <th>State</th>\n",
       "      <th>DOB</th>\n",
       "      <th>Sex</th>\n",
       "      <th>MaritalDesc</th>\n",
       "      <th>CitizenDesc</th>\n",
       "      <th>HispanicLatino</th>\n",
       "      <th>RaceDesc</th>\n",
       "      <th>DateofHire</th>\n",
       "      <th>DateofTermination</th>\n",
       "      <th>TermReason</th>\n",
       "      <th>EmploymentStatus</th>\n",
       "      <th>Department</th>\n",
       "      <th>ManagerName</th>\n",
       "      <th>RecruitmentSource</th>\n",
       "      <th>PerformanceScore</th>\n",
       "      <th>LastPerformanceReview_Date</th>\n",
       "    </tr>\n",
       "  </thead>\n",
       "  <tbody>\n",
       "    <tr>\n",
       "      <th>0</th>\n",
       "      <td>Adinolfi, Wilson  K</td>\n",
       "      <td>Production Technician I</td>\n",
       "      <td>MA</td>\n",
       "      <td>07/10/83</td>\n",
       "      <td>M</td>\n",
       "      <td>Single</td>\n",
       "      <td>US Citizen</td>\n",
       "      <td>No</td>\n",
       "      <td>White</td>\n",
       "      <td>7/5/2011</td>\n",
       "      <td>NaN</td>\n",
       "      <td>N/A-StillEmployed</td>\n",
       "      <td>Active</td>\n",
       "      <td>Production</td>\n",
       "      <td>Michael Albert</td>\n",
       "      <td>LinkedIn</td>\n",
       "      <td>Exceeds</td>\n",
       "      <td>1/17/2019</td>\n",
       "    </tr>\n",
       "    <tr>\n",
       "      <th>1</th>\n",
       "      <td>Ait Sidi, Karthikeyan</td>\n",
       "      <td>Sr. DBA</td>\n",
       "      <td>MA</td>\n",
       "      <td>05/05/75</td>\n",
       "      <td>M</td>\n",
       "      <td>Married</td>\n",
       "      <td>US Citizen</td>\n",
       "      <td>No</td>\n",
       "      <td>White</td>\n",
       "      <td>3/30/2015</td>\n",
       "      <td>6/16/2016</td>\n",
       "      <td>career change</td>\n",
       "      <td>Voluntarily Terminated</td>\n",
       "      <td>IT/IS</td>\n",
       "      <td>Simon Roup</td>\n",
       "      <td>Indeed</td>\n",
       "      <td>Fully Meets</td>\n",
       "      <td>2/24/2016</td>\n",
       "    </tr>\n",
       "  </tbody>\n",
       "</table>\n",
       "</div>"
      ],
      "text/plain": [
       "              Employee_Name                 Position State       DOB Sex  \\\n",
       "0       Adinolfi, Wilson  K  Production Technician I    MA  07/10/83  M    \n",
       "1  Ait Sidi, Karthikeyan                     Sr. DBA    MA  05/05/75  M    \n",
       "\n",
       "  MaritalDesc CitizenDesc HispanicLatino RaceDesc DateofHire  \\\n",
       "0      Single  US Citizen             No    White   7/5/2011   \n",
       "1     Married  US Citizen             No    White  3/30/2015   \n",
       "\n",
       "  DateofTermination         TermReason        EmploymentStatus  \\\n",
       "0               NaN  N/A-StillEmployed                  Active   \n",
       "1         6/16/2016      career change  Voluntarily Terminated   \n",
       "\n",
       "          Department     ManagerName RecruitmentSource PerformanceScore  \\\n",
       "0  Production         Michael Albert          LinkedIn          Exceeds   \n",
       "1              IT/IS      Simon Roup            Indeed      Fully Meets   \n",
       "\n",
       "  LastPerformanceReview_Date  \n",
       "0                  1/17/2019  \n",
       "1                  2/24/2016  "
      ]
     },
     "execution_count": 6,
     "metadata": {},
     "output_type": "execute_result"
    }
   ],
   "source": [
    "# Select columns from the dataframe which have the 'object' data type based on Python's string type\n",
    "df.select_dtypes(include = ['object']).head(2)"
   ]
  },
  {
   "cell_type": "code",
   "execution_count": 7,
   "id": "db547a1c",
   "metadata": {},
   "outputs": [
    {
     "data": {
      "text/plain": [
       "Index(['Employee_Name', 'Position', 'State', 'DOB', 'Sex', 'MaritalDesc',\n",
       "       'CitizenDesc', 'HispanicLatino', 'RaceDesc', 'DateofHire',\n",
       "       'DateofTermination', 'TermReason', 'EmploymentStatus', 'Department',\n",
       "       'ManagerName', 'RecruitmentSource', 'PerformanceScore',\n",
       "       'LastPerformanceReview_Date'],\n",
       "      dtype='object')"
      ]
     },
     "execution_count": 7,
     "metadata": {},
     "output_type": "execute_result"
    }
   ],
   "source": [
    "# Select columns which have object data type\n",
    "df.select_dtypes(include = ['object']).columns"
   ]
  },
  {
   "cell_type": "markdown",
   "id": "3e41ccca",
   "metadata": {},
   "source": [
    "### The String Accessor Class from a Series "
   ]
  },
  {
   "cell_type": "code",
   "execution_count": 41,
   "id": "56a45eb4",
   "metadata": {},
   "outputs": [
    {
     "data": {
      "text/plain": [
       "0               LinkedIn\n",
       "1                 Indeed\n",
       "2               LinkedIn\n",
       "3                 Indeed\n",
       "4          Google Search\n",
       "             ...        \n",
       "306             LinkedIn\n",
       "307        Google Search\n",
       "308    Employee Referral\n",
       "309    Employee Referral\n",
       "310             LinkedIn\n",
       "Name: RecruitmentSource, Length: 311, dtype: object"
      ]
     },
     "execution_count": 41,
     "metadata": {},
     "output_type": "execute_result"
    }
   ],
   "source": [
    "# Consider this projected Series with one String column from the original dataframe\n",
    "df['RecruitmentSource']"
   ]
  },
  {
   "cell_type": "code",
   "execution_count": 42,
   "id": "d88458ef",
   "metadata": {},
   "outputs": [
    {
     "ename": "AttributeError",
     "evalue": "'Series' object has no attribute 'upper'",
     "output_type": "error",
     "traceback": [
      "\u001b[0;31m---------------------------------------------------------------------------\u001b[0m",
      "\u001b[0;31mAttributeError\u001b[0m                            Traceback (most recent call last)",
      "Input \u001b[0;32mIn [42]\u001b[0m, in \u001b[0;36m<cell line: 2>\u001b[0;34m()\u001b[0m\n\u001b[1;32m      1\u001b[0m \u001b[38;5;66;03m# Trying to make all values to Upper case\u001b[39;00m\n\u001b[0;32m----> 2\u001b[0m \u001b[43mdf\u001b[49m\u001b[43m[\u001b[49m\u001b[38;5;124;43m'\u001b[39;49m\u001b[38;5;124;43mRecruitmentSource\u001b[39;49m\u001b[38;5;124;43m'\u001b[39;49m\u001b[43m]\u001b[49m\u001b[38;5;241;43m.\u001b[39;49m\u001b[43mupper\u001b[49m()\n",
      "File \u001b[0;32m~/Documents/TreasureIsland/Tutorials/venv/lib/python3.9/site-packages/pandas/core/generic.py:5575\u001b[0m, in \u001b[0;36mNDFrame.__getattr__\u001b[0;34m(self, name)\u001b[0m\n\u001b[1;32m   5568\u001b[0m \u001b[38;5;28;01mif\u001b[39;00m (\n\u001b[1;32m   5569\u001b[0m     name \u001b[38;5;129;01mnot\u001b[39;00m \u001b[38;5;129;01min\u001b[39;00m \u001b[38;5;28mself\u001b[39m\u001b[38;5;241m.\u001b[39m_internal_names_set\n\u001b[1;32m   5570\u001b[0m     \u001b[38;5;129;01mand\u001b[39;00m name \u001b[38;5;129;01mnot\u001b[39;00m \u001b[38;5;129;01min\u001b[39;00m \u001b[38;5;28mself\u001b[39m\u001b[38;5;241m.\u001b[39m_metadata\n\u001b[1;32m   5571\u001b[0m     \u001b[38;5;129;01mand\u001b[39;00m name \u001b[38;5;129;01mnot\u001b[39;00m \u001b[38;5;129;01min\u001b[39;00m \u001b[38;5;28mself\u001b[39m\u001b[38;5;241m.\u001b[39m_accessors\n\u001b[1;32m   5572\u001b[0m     \u001b[38;5;129;01mand\u001b[39;00m \u001b[38;5;28mself\u001b[39m\u001b[38;5;241m.\u001b[39m_info_axis\u001b[38;5;241m.\u001b[39m_can_hold_identifiers_and_holds_name(name)\n\u001b[1;32m   5573\u001b[0m ):\n\u001b[1;32m   5574\u001b[0m     \u001b[38;5;28;01mreturn\u001b[39;00m \u001b[38;5;28mself\u001b[39m[name]\n\u001b[0;32m-> 5575\u001b[0m \u001b[38;5;28;01mreturn\u001b[39;00m \u001b[38;5;28;43mobject\u001b[39;49m\u001b[38;5;241;43m.\u001b[39;49m\u001b[38;5;21;43m__getattribute__\u001b[39;49m\u001b[43m(\u001b[49m\u001b[38;5;28;43mself\u001b[39;49m\u001b[43m,\u001b[49m\u001b[43m \u001b[49m\u001b[43mname\u001b[49m\u001b[43m)\u001b[49m\n",
      "\u001b[0;31mAttributeError\u001b[0m: 'Series' object has no attribute 'upper'"
     ]
    }
   ],
   "source": [
    "# Trying to make all values to Upper case - but results in Error.\n",
    "# This is because df['RecruitmentSource'] is a Series which does not have String methods.\n",
    "df['RecruitmentSource'].upper()"
   ]
  },
  {
   "cell_type": "code",
   "execution_count": 43,
   "id": "aab43f7b",
   "metadata": {},
   "outputs": [
    {
     "data": {
      "text/plain": [
       "<pandas.core.strings.accessor.StringMethods at 0x11a1a4fa0>"
      ]
     },
     "execution_count": 43,
     "metadata": {},
     "output_type": "execute_result"
    }
   ],
   "source": [
    "# A String accessor is required after the Series to add any String operation\n",
    "# This generates a StringMethods object which exposes all String operations\n",
    "df['RecruitmentSource'].str"
   ]
  },
  {
   "cell_type": "code",
   "execution_count": 44,
   "id": "1f4d87bb",
   "metadata": {},
   "outputs": [
    {
     "data": {
      "text/plain": [
       "0               LINKEDIN\n",
       "1                 INDEED\n",
       "2               LINKEDIN\n",
       "3                 INDEED\n",
       "4          GOOGLE SEARCH\n",
       "             ...        \n",
       "306             LINKEDIN\n",
       "307        GOOGLE SEARCH\n",
       "308    EMPLOYEE REFERRAL\n",
       "309    EMPLOYEE REFERRAL\n",
       "310             LINKEDIN\n",
       "Name: RecruitmentSource, Length: 311, dtype: object"
      ]
     },
     "execution_count": 44,
     "metadata": {},
     "output_type": "execute_result"
    }
   ],
   "source": [
    "# Now string functions can be used upon the str accessor. These string functions return a Series.\n",
    "df['RecruitmentSource'].str.upper()"
   ]
  },
  {
   "cell_type": "code",
   "execution_count": 45,
   "id": "c65598cf",
   "metadata": {},
   "outputs": [
    {
     "data": {
      "text/plain": [
       "0               linkedin\n",
       "1                 indeed\n",
       "2               linkedin\n",
       "3                 indeed\n",
       "4          google search\n",
       "             ...        \n",
       "306             linkedin\n",
       "307        google search\n",
       "308    employee referral\n",
       "309    employee referral\n",
       "310             linkedin\n",
       "Name: RecruitmentSource, Length: 311, dtype: object"
      ]
     },
     "execution_count": 45,
     "metadata": {},
     "output_type": "execute_result"
    }
   ],
   "source": [
    "df['RecruitmentSource'].str.lower()"
   ]
  },
  {
   "cell_type": "code",
   "execution_count": 46,
   "id": "25498282",
   "metadata": {},
   "outputs": [
    {
     "data": {
      "text/plain": [
       "0      False\n",
       "1      False\n",
       "2      False\n",
       "3      False\n",
       "4       True\n",
       "       ...  \n",
       "306    False\n",
       "307     True\n",
       "308    False\n",
       "309    False\n",
       "310    False\n",
       "Name: RecruitmentSource, Length: 311, dtype: bool"
      ]
     },
     "execution_count": 46,
     "metadata": {},
     "output_type": "execute_result"
    }
   ],
   "source": [
    "# Note that this string function is a Boolean function that says if a row satisfies this condition or not\n",
    "df['RecruitmentSource'].str.startswith('G')"
   ]
  },
  {
   "cell_type": "code",
   "execution_count": 14,
   "id": "e59fa1d9",
   "metadata": {},
   "outputs": [
    {
     "ename": "AttributeError",
     "evalue": "'Series' object has no attribute 'startswith'",
     "output_type": "error",
     "traceback": [
      "\u001b[0;31m---------------------------------------------------------------------------\u001b[0m",
      "\u001b[0;31mAttributeError\u001b[0m                            Traceback (most recent call last)",
      "Input \u001b[0;32mIn [14]\u001b[0m, in \u001b[0;36m<cell line: 5>\u001b[0;34m()\u001b[0m\n\u001b[1;32m      1\u001b[0m \u001b[38;5;66;03m# Trying to find records which has values starting with 'employee'; case insensitive\u001b[39;00m\n\u001b[1;32m      2\u001b[0m \u001b[38;5;66;03m# But this fails to do the contains together\u001b[39;00m\n\u001b[1;32m      3\u001b[0m \u001b[38;5;66;03m# This is because lower() again produces a Series and string functions don't apply on Series\u001b[39;00m\n\u001b[1;32m      4\u001b[0m \u001b[38;5;66;03m# so this needs to be converted again to StringMethods and then we can use contains\u001b[39;00m\n\u001b[0;32m----> 5\u001b[0m \u001b[43mdf\u001b[49m\u001b[43m[\u001b[49m\u001b[38;5;124;43m'\u001b[39;49m\u001b[38;5;124;43mRecruitmentSource\u001b[39;49m\u001b[38;5;124;43m'\u001b[39;49m\u001b[43m]\u001b[49m\u001b[38;5;241;43m.\u001b[39;49m\u001b[43mstr\u001b[49m\u001b[38;5;241;43m.\u001b[39;49m\u001b[43mlower\u001b[49m\u001b[43m(\u001b[49m\u001b[43m)\u001b[49m\u001b[38;5;241;43m.\u001b[39;49m\u001b[43mstartswith\u001b[49m(\u001b[38;5;124m'\u001b[39m\u001b[38;5;124memployee\u001b[39m\u001b[38;5;124m'\u001b[39m)\n",
      "File \u001b[0;32m~/Documents/TreasureIsland/Tutorials/venv/lib/python3.9/site-packages/pandas/core/generic.py:5575\u001b[0m, in \u001b[0;36mNDFrame.__getattr__\u001b[0;34m(self, name)\u001b[0m\n\u001b[1;32m   5568\u001b[0m \u001b[38;5;28;01mif\u001b[39;00m (\n\u001b[1;32m   5569\u001b[0m     name \u001b[38;5;129;01mnot\u001b[39;00m \u001b[38;5;129;01min\u001b[39;00m \u001b[38;5;28mself\u001b[39m\u001b[38;5;241m.\u001b[39m_internal_names_set\n\u001b[1;32m   5570\u001b[0m     \u001b[38;5;129;01mand\u001b[39;00m name \u001b[38;5;129;01mnot\u001b[39;00m \u001b[38;5;129;01min\u001b[39;00m \u001b[38;5;28mself\u001b[39m\u001b[38;5;241m.\u001b[39m_metadata\n\u001b[1;32m   5571\u001b[0m     \u001b[38;5;129;01mand\u001b[39;00m name \u001b[38;5;129;01mnot\u001b[39;00m \u001b[38;5;129;01min\u001b[39;00m \u001b[38;5;28mself\u001b[39m\u001b[38;5;241m.\u001b[39m_accessors\n\u001b[1;32m   5572\u001b[0m     \u001b[38;5;129;01mand\u001b[39;00m \u001b[38;5;28mself\u001b[39m\u001b[38;5;241m.\u001b[39m_info_axis\u001b[38;5;241m.\u001b[39m_can_hold_identifiers_and_holds_name(name)\n\u001b[1;32m   5573\u001b[0m ):\n\u001b[1;32m   5574\u001b[0m     \u001b[38;5;28;01mreturn\u001b[39;00m \u001b[38;5;28mself\u001b[39m[name]\n\u001b[0;32m-> 5575\u001b[0m \u001b[38;5;28;01mreturn\u001b[39;00m \u001b[38;5;28;43mobject\u001b[39;49m\u001b[38;5;241;43m.\u001b[39;49m\u001b[38;5;21;43m__getattribute__\u001b[39;49m\u001b[43m(\u001b[49m\u001b[38;5;28;43mself\u001b[39;49m\u001b[43m,\u001b[49m\u001b[43m \u001b[49m\u001b[43mname\u001b[49m\u001b[43m)\u001b[49m\n",
      "\u001b[0;31mAttributeError\u001b[0m: 'Series' object has no attribute 'startswith'"
     ]
    }
   ],
   "source": [
    "# Trying to find records which has values starting with 'employee'; case insensitive\n",
    "# But this fails to do the startswith after lower()\n",
    "# This is because lower() again produces a Series and string functions don't apply on Series\n",
    "\n",
    "df['RecruitmentSource'].str.lower().startswith('employee')"
   ]
  },
  {
   "cell_type": "code",
   "execution_count": 15,
   "id": "04bed6b7",
   "metadata": {},
   "outputs": [
    {
     "data": {
      "text/plain": [
       "0      False\n",
       "1      False\n",
       "2      False\n",
       "3      False\n",
       "4      False\n",
       "       ...  \n",
       "306    False\n",
       "307    False\n",
       "308     True\n",
       "309     True\n",
       "310    False\n",
       "Name: RecruitmentSource, Length: 311, dtype: bool"
      ]
     },
     "execution_count": 15,
     "metadata": {},
     "output_type": "execute_result"
    }
   ],
   "source": [
    "# so the Series from lower() needs to be converted back to StringMethods to be able to use startswith \n",
    "df['RecruitmentSource'].str.lower().str.startswith('employee')"
   ]
  },
  {
   "cell_type": "code",
   "execution_count": 16,
   "id": "cb2615e8",
   "metadata": {},
   "outputs": [
    {
     "data": {
      "text/plain": [
       "0      False\n",
       "1      False\n",
       "2      False\n",
       "3      False\n",
       "4      False\n",
       "       ...  \n",
       "306    False\n",
       "307    False\n",
       "308     True\n",
       "309     True\n",
       "310    False\n",
       "Name: RecruitmentSource, Length: 311, dtype: bool"
      ]
     },
     "execution_count": 16,
     "metadata": {},
     "output_type": "execute_result"
    }
   ],
   "source": [
    "# An alternative but more elegant way is to use \"apply\" which does not need multiple string accessors\n",
    "df['RecruitmentSource'].apply(lambda x: x.lower().startswith('employee'))"
   ]
  },
  {
   "cell_type": "code",
   "execution_count": null,
   "id": "1f1f9a0a",
   "metadata": {},
   "outputs": [],
   "source": []
  }
 ],
 "metadata": {
  "kernelspec": {
   "display_name": "venv",
   "language": "python",
   "name": "venv"
  },
  "language_info": {
   "codemirror_mode": {
    "name": "ipython",
    "version": 3
   },
   "file_extension": ".py",
   "mimetype": "text/x-python",
   "name": "python",
   "nbconvert_exporter": "python",
   "pygments_lexer": "ipython3",
   "version": "3.9.1"
  }
 },
 "nbformat": 4,
 "nbformat_minor": 5
}
