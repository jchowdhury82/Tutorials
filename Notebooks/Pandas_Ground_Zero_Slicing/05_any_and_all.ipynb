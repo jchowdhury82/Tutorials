{
 "cells": [
  {
   "cell_type": "code",
   "execution_count": 1,
   "id": "c8c52f05",
   "metadata": {},
   "outputs": [],
   "source": [
    "import pandas as pd\n",
    "import numpy as np"
   ]
  },
  {
   "cell_type": "code",
   "execution_count": 2,
   "id": "66290409",
   "metadata": {},
   "outputs": [
    {
     "data": {
      "text/html": [
       "<div>\n",
       "<style scoped>\n",
       "    .dataframe tbody tr th:only-of-type {\n",
       "        vertical-align: middle;\n",
       "    }\n",
       "\n",
       "    .dataframe tbody tr th {\n",
       "        vertical-align: top;\n",
       "    }\n",
       "\n",
       "    .dataframe thead th {\n",
       "        text-align: right;\n",
       "    }\n",
       "</style>\n",
       "<table border=\"1\" class=\"dataframe\">\n",
       "  <thead>\n",
       "    <tr style=\"text-align: right;\">\n",
       "      <th></th>\n",
       "      <th>Name</th>\n",
       "      <th>Gender</th>\n",
       "      <th>Age</th>\n",
       "    </tr>\n",
       "  </thead>\n",
       "  <tbody>\n",
       "    <tr>\n",
       "      <th>0</th>\n",
       "      <td>Alex</td>\n",
       "      <td>M</td>\n",
       "      <td>24</td>\n",
       "    </tr>\n",
       "    <tr>\n",
       "      <th>1</th>\n",
       "      <td>Shannon</td>\n",
       "      <td>NaN</td>\n",
       "      <td>18</td>\n",
       "    </tr>\n",
       "    <tr>\n",
       "      <th>2</th>\n",
       "      <td>Jodie</td>\n",
       "      <td>F</td>\n",
       "      <td>32</td>\n",
       "    </tr>\n",
       "    <tr>\n",
       "      <th>3</th>\n",
       "      <td>Jordan</td>\n",
       "      <td>M</td>\n",
       "      <td>NaN</td>\n",
       "    </tr>\n",
       "  </tbody>\n",
       "</table>\n",
       "</div>"
      ],
      "text/plain": [
       "      Name Gender  Age\n",
       "0     Alex      M   24\n",
       "1  Shannon    NaN   18\n",
       "2    Jodie      F   32\n",
       "3   Jordan      M  NaN"
      ]
     },
     "execution_count": 2,
     "metadata": {},
     "output_type": "execute_result"
    }
   ],
   "source": [
    "df = pd.DataFrame({\n",
    "                  'Name': ['Alex', 'Shannon', 'Jodie', 'Jordan'],\n",
    "                  'Gender': ['M',np.nan,'F','M'],\n",
    "                  'Age': ['24','18','32',np.nan]\n",
    "                })\n",
    "df"
   ]
  },
  {
   "cell_type": "markdown",
   "id": "256fe2dc",
   "metadata": {},
   "source": [
    "### using any() on entire dataframe"
   ]
  },
  {
   "cell_type": "code",
   "execution_count": 3,
   "id": "3818c71e",
   "metadata": {},
   "outputs": [
    {
     "data": {
      "text/plain": [
       "Name      False\n",
       "Gender     True\n",
       "Age        True\n",
       "dtype: bool"
      ]
     },
     "execution_count": 3,
     "metadata": {},
     "output_type": "execute_result"
    }
   ],
   "source": [
    "# which columns have at least one Null value across all rows\n",
    "# gives a Series with column names and an \"aggregated\" Truth Value based on boolean OR logic\n",
    "# We see Gender and Age are two columns which has NaN in some row\n",
    "df.isnull().any(axis = 0)"
   ]
  },
  {
   "cell_type": "code",
   "execution_count": 4,
   "id": "fa2fa67c",
   "metadata": {},
   "outputs": [
    {
     "data": {
      "text/plain": [
       "0    False\n",
       "1     True\n",
       "2    False\n",
       "3     True\n",
       "dtype: bool"
      ]
     },
     "execution_count": 4,
     "metadata": {},
     "output_type": "execute_result"
    }
   ],
   "source": [
    "# which rows have at least one Null value across all columns\n",
    "# gives a Series with row indexes and an \"aggregated\" Truth Value based on boolean OR logic\n",
    "# We see Row index 1,3 are some examples which has NaN in some column\n",
    "df.isnull().any(axis = 1)"
   ]
  },
  {
   "cell_type": "code",
   "execution_count": 5,
   "id": "2186206f",
   "metadata": {},
   "outputs": [
    {
     "data": {
      "text/plain": [
       "Name      False\n",
       "Gender     True\n",
       "Age        True\n",
       "dtype: bool"
      ]
     },
     "execution_count": 5,
     "metadata": {},
     "output_type": "execute_result"
    }
   ],
   "source": [
    "# Default axis = 0, this is same as df.isnull().any(axis = 0)\n",
    "df.isnull().any()"
   ]
  },
  {
   "cell_type": "markdown",
   "id": "998dc76f",
   "metadata": {},
   "source": [
    "### using any() on a particular column or a row"
   ]
  },
  {
   "cell_type": "code",
   "execution_count": 6,
   "id": "7a9010d2",
   "metadata": {},
   "outputs": [
    {
     "data": {
      "text/plain": [
       "False"
      ]
     },
     "execution_count": 6,
     "metadata": {},
     "output_type": "execute_result"
    }
   ],
   "source": [
    "# Is there any NaN in column 'Name'?\n",
    "# any() does not find any NaN's : result = False\n",
    "df['Name'].isnull().any()"
   ]
  },
  {
   "cell_type": "code",
   "execution_count": 7,
   "id": "48ad6561",
   "metadata": {},
   "outputs": [
    {
     "data": {
      "text/plain": [
       "True"
      ]
     },
     "execution_count": 7,
     "metadata": {},
     "output_type": "execute_result"
    }
   ],
   "source": [
    "# Is there any NaN in row Index 1?\n",
    "# Row Index 1 has a NaN in Gender : result = True\n",
    "df.loc[1].isnull().any()"
   ]
  },
  {
   "cell_type": "code",
   "execution_count": 16,
   "id": "a0f4317d",
   "metadata": {},
   "outputs": [
    {
     "name": "stdout",
     "output_type": "stream",
     "text": [
      "No axis named 1 for object type Series\n"
     ]
    }
   ],
   "source": [
    "# Why do these throw error? \n",
    "# axis = 1 is invalid for any() when operated on a Series : df['Name'].isnull() is a Series\n",
    "\n",
    "df['Name'].isnull().any(axis = 1)\n",
    "df.loc[1].isnull().any(axis = 1)"
   ]
  },
  {
   "cell_type": "markdown",
   "id": "67ad1bd3",
   "metadata": {},
   "source": [
    "### Using all() on entire dataframe"
   ]
  },
  {
   "cell_type": "code",
   "execution_count": 9,
   "id": "c415b122",
   "metadata": {},
   "outputs": [
    {
     "data": {
      "text/html": [
       "<div>\n",
       "<style scoped>\n",
       "    .dataframe tbody tr th:only-of-type {\n",
       "        vertical-align: middle;\n",
       "    }\n",
       "\n",
       "    .dataframe tbody tr th {\n",
       "        vertical-align: top;\n",
       "    }\n",
       "\n",
       "    .dataframe thead th {\n",
       "        text-align: right;\n",
       "    }\n",
       "</style>\n",
       "<table border=\"1\" class=\"dataframe\">\n",
       "  <thead>\n",
       "    <tr style=\"text-align: right;\">\n",
       "      <th></th>\n",
       "      <th>Name</th>\n",
       "      <th>Gender</th>\n",
       "      <th>Age</th>\n",
       "    </tr>\n",
       "  </thead>\n",
       "  <tbody>\n",
       "    <tr>\n",
       "      <th>0</th>\n",
       "      <td>NaN</td>\n",
       "      <td>NaN</td>\n",
       "      <td>NaN</td>\n",
       "    </tr>\n",
       "    <tr>\n",
       "      <th>1</th>\n",
       "      <td>NaN</td>\n",
       "      <td>F</td>\n",
       "      <td>18</td>\n",
       "    </tr>\n",
       "    <tr>\n",
       "      <th>2</th>\n",
       "      <td>NaN</td>\n",
       "      <td>F</td>\n",
       "      <td>32</td>\n",
       "    </tr>\n",
       "    <tr>\n",
       "      <th>3</th>\n",
       "      <td>NaN</td>\n",
       "      <td>M</td>\n",
       "      <td>34</td>\n",
       "    </tr>\n",
       "  </tbody>\n",
       "</table>\n",
       "</div>"
      ],
      "text/plain": [
       "   Name Gender  Age\n",
       "0   NaN    NaN  NaN\n",
       "1   NaN      F   18\n",
       "2   NaN      F   32\n",
       "3   NaN      M   34"
      ]
     },
     "execution_count": 9,
     "metadata": {},
     "output_type": "execute_result"
    }
   ],
   "source": [
    "# we will use a different data sets this time\n",
    "df2 = pd.DataFrame({\n",
    "                  'Name': [np.NaN, np.NaN, np.NaN, np.NaN],\n",
    "                  'Gender': [np.NaN,'F','F','M'],\n",
    "                  'Age': [np.NaN,'18','32','34']  \n",
    "                })\n",
    "df2"
   ]
  },
  {
   "cell_type": "code",
   "execution_count": 10,
   "id": "dfebe457",
   "metadata": {},
   "outputs": [
    {
     "data": {
      "text/plain": [
       "Name       True\n",
       "Gender    False\n",
       "Age       False\n",
       "dtype: bool"
      ]
     },
     "execution_count": 10,
     "metadata": {},
     "output_type": "execute_result"
    }
   ],
   "source": [
    "# which columns have all NaN's value across all rows\n",
    "# gives a Series with column names and an \"aggregated\" Truth Value based on boolean OR logic\n",
    "# We see Gender and Age are two columns which has all NaN's\n",
    "df2.isnull().all(axis = 0)"
   ]
  },
  {
   "cell_type": "code",
   "execution_count": 11,
   "id": "c884518a",
   "metadata": {},
   "outputs": [
    {
     "data": {
      "text/plain": [
       "0     True\n",
       "1    False\n",
       "2    False\n",
       "3    False\n",
       "dtype: bool"
      ]
     },
     "execution_count": 11,
     "metadata": {},
     "output_type": "execute_result"
    }
   ],
   "source": [
    "# which rows have all NaN's across all columns\n",
    "# gives a Series with row indexes and an \"aggregated\" Truth Value based on boolean OR logic\n",
    "# We see Row index 0 has all NaN's\n",
    "df2.isnull().all(axis = 1)"
   ]
  },
  {
   "cell_type": "markdown",
   "id": "e16d41f5",
   "metadata": {},
   "source": [
    "### Using all() on a specific column"
   ]
  },
  {
   "cell_type": "code",
   "execution_count": 12,
   "id": "b2567472",
   "metadata": {},
   "outputs": [
    {
     "data": {
      "text/plain": [
       "True"
      ]
     },
     "execution_count": 12,
     "metadata": {},
     "output_type": "execute_result"
    }
   ],
   "source": [
    "# Does the column 'Name' have all NaN's\n",
    "# Yes, Name has all NaNs\n",
    "df2['Name'].isnull().all()"
   ]
  },
  {
   "cell_type": "code",
   "execution_count": 13,
   "id": "f2d590d6",
   "metadata": {},
   "outputs": [
    {
     "data": {
      "text/plain": [
       "True"
      ]
     },
     "execution_count": 13,
     "metadata": {},
     "output_type": "execute_result"
    }
   ],
   "source": [
    "# Does the row with index 0 have all NaN's\n",
    "# Yes, row index 0 has all NaN's\n",
    "df2.loc[0].isnull().all()"
   ]
  },
  {
   "cell_type": "code",
   "execution_count": 17,
   "id": "65044873",
   "metadata": {},
   "outputs": [
    {
     "name": "stdout",
     "output_type": "stream",
     "text": [
      "No axis named 1 for object type Series\n"
     ]
    }
   ],
   "source": [
    "# Again, axis = 1 is invalid for all() when operated on a Series and df2['Name'].isnull() is a Series\n",
    "df2['Name'].isnull().all(axis = 1)"
   ]
  },
  {
   "cell_type": "code",
   "execution_count": null,
   "id": "54c11f53",
   "metadata": {},
   "outputs": [],
   "source": []
  }
 ],
 "metadata": {
  "kernelspec": {
   "display_name": "venv",
   "language": "python",
   "name": "venv"
  },
  "language_info": {
   "codemirror_mode": {
    "name": "ipython",
    "version": 3
   },
   "file_extension": ".py",
   "mimetype": "text/x-python",
   "name": "python",
   "nbconvert_exporter": "python",
   "pygments_lexer": "ipython3",
   "version": "3.9.1"
  }
 },
 "nbformat": 4,
 "nbformat_minor": 5
}
