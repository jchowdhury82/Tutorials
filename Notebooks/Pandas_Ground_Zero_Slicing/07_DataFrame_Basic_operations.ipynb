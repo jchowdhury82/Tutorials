{
 "cells": [
  {
   "cell_type": "code",
   "execution_count": 1,
   "id": "c8c52f05",
   "metadata": {},
   "outputs": [],
   "source": [
    "import pandas as pd"
   ]
  },
  {
   "cell_type": "code",
   "execution_count": 2,
   "id": "66290409",
   "metadata": {},
   "outputs": [],
   "source": [
    "df = pd.read_csv('../Data/HRData.csv')"
   ]
  },
  {
   "cell_type": "code",
   "execution_count": 3,
   "id": "840b3293",
   "metadata": {},
   "outputs": [
    {
     "data": {
      "text/plain": [
       "[RangeIndex(start=0, stop=311, step=1),\n",
       " Index(['Employee_Name', 'EmpID', 'MarriedID', 'MaritalStatusID', 'GenderID',\n",
       "        'EmpStatusID', 'DeptID', 'PerfScoreID', 'FromDiversityJobFairID',\n",
       "        'Salary', 'Termd', 'PositionID', 'Position', 'State', 'Zip', 'DOB',\n",
       "        'Sex', 'MaritalDesc', 'CitizenDesc', 'HispanicLatino', 'RaceDesc',\n",
       "        'DateofHire', 'DateofTermination', 'TermReason', 'EmploymentStatus',\n",
       "        'Department', 'ManagerName', 'ManagerID', 'RecruitmentSource',\n",
       "        'PerformanceScore', 'EngagementSurvey', 'EmpSatisfaction',\n",
       "        'SpecialProjectsCount', 'LastPerformanceReview_Date', 'DaysLateLast30',\n",
       "        'Absences'],\n",
       "       dtype='object')]"
      ]
     },
     "execution_count": 3,
     "metadata": {},
     "output_type": "execute_result"
    }
   ],
   "source": [
    "df.axes"
   ]
  },
  {
   "cell_type": "code",
   "execution_count": 4,
   "id": "36bad3b4",
   "metadata": {},
   "outputs": [
    {
     "data": {
      "text/plain": [
       "(311, 36)"
      ]
     },
     "execution_count": 4,
     "metadata": {},
     "output_type": "execute_result"
    }
   ],
   "source": [
    "df.shape"
   ]
  },
  {
   "cell_type": "code",
   "execution_count": 5,
   "id": "4b0bac8d",
   "metadata": {},
   "outputs": [
    {
     "name": "stdout",
     "output_type": "stream",
     "text": [
      "<class 'pandas.core.frame.DataFrame'>\n",
      "RangeIndex: 311 entries, 0 to 310\n",
      "Columns: 36 entries, Employee_Name to Absences\n",
      "dtypes: float64(2), int64(16), object(18)\n",
      "memory usage: 87.6+ KB\n"
     ]
    }
   ],
   "source": [
    "# Short and concise information about the dataframe\n",
    "df.info(verbose = False)"
   ]
  },
  {
   "cell_type": "markdown",
   "id": "37c173fd",
   "metadata": {},
   "source": [
    "### Projecting one or more columns of a DataFrame"
   ]
  },
  {
   "cell_type": "code",
   "execution_count": 6,
   "id": "0e536b35",
   "metadata": {},
   "outputs": [
    {
     "data": {
      "text/plain": [
       "0               LinkedIn\n",
       "1                 Indeed\n",
       "2               LinkedIn\n",
       "3                 Indeed\n",
       "4          Google Search\n",
       "             ...        \n",
       "306             LinkedIn\n",
       "307        Google Search\n",
       "308    Employee Referral\n",
       "309    Employee Referral\n",
       "310             LinkedIn\n",
       "Name: RecruitmentSource, Length: 311, dtype: object"
      ]
     },
     "execution_count": 6,
     "metadata": {},
     "output_type": "execute_result"
    }
   ],
   "source": [
    "# this generates a Series  - same index as the original df\n",
    "df['RecruitmentSource']"
   ]
  },
  {
   "cell_type": "code",
   "execution_count": 7,
   "id": "bb6b32e2",
   "metadata": {},
   "outputs": [
    {
     "data": {
      "text/html": [
       "<div>\n",
       "<style scoped>\n",
       "    .dataframe tbody tr th:only-of-type {\n",
       "        vertical-align: middle;\n",
       "    }\n",
       "\n",
       "    .dataframe tbody tr th {\n",
       "        vertical-align: top;\n",
       "    }\n",
       "\n",
       "    .dataframe thead th {\n",
       "        text-align: right;\n",
       "    }\n",
       "</style>\n",
       "<table border=\"1\" class=\"dataframe\">\n",
       "  <thead>\n",
       "    <tr style=\"text-align: right;\">\n",
       "      <th></th>\n",
       "      <th>RecruitmentSource</th>\n",
       "    </tr>\n",
       "  </thead>\n",
       "  <tbody>\n",
       "    <tr>\n",
       "      <th>0</th>\n",
       "      <td>LinkedIn</td>\n",
       "    </tr>\n",
       "    <tr>\n",
       "      <th>1</th>\n",
       "      <td>Indeed</td>\n",
       "    </tr>\n",
       "    <tr>\n",
       "      <th>2</th>\n",
       "      <td>LinkedIn</td>\n",
       "    </tr>\n",
       "    <tr>\n",
       "      <th>3</th>\n",
       "      <td>Indeed</td>\n",
       "    </tr>\n",
       "    <tr>\n",
       "      <th>4</th>\n",
       "      <td>Google Search</td>\n",
       "    </tr>\n",
       "    <tr>\n",
       "      <th>...</th>\n",
       "      <td>...</td>\n",
       "    </tr>\n",
       "    <tr>\n",
       "      <th>306</th>\n",
       "      <td>LinkedIn</td>\n",
       "    </tr>\n",
       "    <tr>\n",
       "      <th>307</th>\n",
       "      <td>Google Search</td>\n",
       "    </tr>\n",
       "    <tr>\n",
       "      <th>308</th>\n",
       "      <td>Employee Referral</td>\n",
       "    </tr>\n",
       "    <tr>\n",
       "      <th>309</th>\n",
       "      <td>Employee Referral</td>\n",
       "    </tr>\n",
       "    <tr>\n",
       "      <th>310</th>\n",
       "      <td>LinkedIn</td>\n",
       "    </tr>\n",
       "  </tbody>\n",
       "</table>\n",
       "<p>311 rows × 1 columns</p>\n",
       "</div>"
      ],
      "text/plain": [
       "     RecruitmentSource\n",
       "0             LinkedIn\n",
       "1               Indeed\n",
       "2             LinkedIn\n",
       "3               Indeed\n",
       "4        Google Search\n",
       "..                 ...\n",
       "306           LinkedIn\n",
       "307      Google Search\n",
       "308  Employee Referral\n",
       "309  Employee Referral\n",
       "310           LinkedIn\n",
       "\n",
       "[311 rows x 1 columns]"
      ]
     },
     "execution_count": 7,
     "metadata": {},
     "output_type": "execute_result"
    }
   ],
   "source": [
    "# this generates a dataframe with a single column - same index as the original df\n",
    "df[['RecruitmentSource']]"
   ]
  },
  {
   "cell_type": "code",
   "execution_count": 8,
   "id": "b1f5edc4",
   "metadata": {},
   "outputs": [
    {
     "data": {
      "text/html": [
       "<div>\n",
       "<style scoped>\n",
       "    .dataframe tbody tr th:only-of-type {\n",
       "        vertical-align: middle;\n",
       "    }\n",
       "\n",
       "    .dataframe tbody tr th {\n",
       "        vertical-align: top;\n",
       "    }\n",
       "\n",
       "    .dataframe thead th {\n",
       "        text-align: right;\n",
       "    }\n",
       "</style>\n",
       "<table border=\"1\" class=\"dataframe\">\n",
       "  <thead>\n",
       "    <tr style=\"text-align: right;\">\n",
       "      <th></th>\n",
       "      <th>Department</th>\n",
       "      <th>RecruitmentSource</th>\n",
       "    </tr>\n",
       "  </thead>\n",
       "  <tbody>\n",
       "    <tr>\n",
       "      <th>0</th>\n",
       "      <td>Production</td>\n",
       "      <td>LinkedIn</td>\n",
       "    </tr>\n",
       "    <tr>\n",
       "      <th>1</th>\n",
       "      <td>IT/IS</td>\n",
       "      <td>Indeed</td>\n",
       "    </tr>\n",
       "    <tr>\n",
       "      <th>2</th>\n",
       "      <td>Production</td>\n",
       "      <td>LinkedIn</td>\n",
       "    </tr>\n",
       "    <tr>\n",
       "      <th>3</th>\n",
       "      <td>Production</td>\n",
       "      <td>Indeed</td>\n",
       "    </tr>\n",
       "    <tr>\n",
       "      <th>4</th>\n",
       "      <td>Production</td>\n",
       "      <td>Google Search</td>\n",
       "    </tr>\n",
       "    <tr>\n",
       "      <th>...</th>\n",
       "      <td>...</td>\n",
       "      <td>...</td>\n",
       "    </tr>\n",
       "    <tr>\n",
       "      <th>306</th>\n",
       "      <td>Production</td>\n",
       "      <td>LinkedIn</td>\n",
       "    </tr>\n",
       "    <tr>\n",
       "      <th>307</th>\n",
       "      <td>Production</td>\n",
       "      <td>Google Search</td>\n",
       "    </tr>\n",
       "    <tr>\n",
       "      <th>308</th>\n",
       "      <td>IT/IS</td>\n",
       "      <td>Employee Referral</td>\n",
       "    </tr>\n",
       "    <tr>\n",
       "      <th>309</th>\n",
       "      <td>IT/IS</td>\n",
       "      <td>Employee Referral</td>\n",
       "    </tr>\n",
       "    <tr>\n",
       "      <th>310</th>\n",
       "      <td>Production</td>\n",
       "      <td>LinkedIn</td>\n",
       "    </tr>\n",
       "  </tbody>\n",
       "</table>\n",
       "<p>311 rows × 2 columns</p>\n",
       "</div>"
      ],
      "text/plain": [
       "            Department  RecruitmentSource\n",
       "0    Production                  LinkedIn\n",
       "1                IT/IS             Indeed\n",
       "2    Production                  LinkedIn\n",
       "3    Production                    Indeed\n",
       "4    Production             Google Search\n",
       "..                 ...                ...\n",
       "306  Production                  LinkedIn\n",
       "307  Production             Google Search\n",
       "308              IT/IS  Employee Referral\n",
       "309              IT/IS  Employee Referral\n",
       "310  Production                  LinkedIn\n",
       "\n",
       "[311 rows x 2 columns]"
      ]
     },
     "execution_count": 8,
     "metadata": {},
     "output_type": "execute_result"
    }
   ],
   "source": [
    "# this generates a dataframe with two columns - same index as the original df\n",
    "df[['Department','RecruitmentSource']]"
   ]
  },
  {
   "cell_type": "markdown",
   "id": "0436edd1",
   "metadata": {},
   "source": [
    "### Attributes and Methods of a column projected as a Series"
   ]
  },
  {
   "cell_type": "code",
   "execution_count": 9,
   "id": "ea5b53bb",
   "metadata": {},
   "outputs": [
    {
     "data": {
      "text/plain": [
       "array(['LinkedIn', 'Indeed', 'LinkedIn', 'Indeed', 'Google Search',\n",
       "       'LinkedIn', 'LinkedIn', 'Employee Referral', 'Diversity Job Fair',\n",
       "       'Indeed', 'Diversity Job Fair', 'Diversity Job Fair',\n",
       "       'Diversity Job Fair', 'Google Search', 'On-line Web application',\n",
       "       'Google Search', 'Employee Referral', 'Google Search',\n",
       "       'Google Search', 'LinkedIn', 'Google Search', 'Indeed', 'Indeed',\n",
       "       'CareerBuilder', 'Google Search', 'LinkedIn', 'Diversity Job Fair',\n",
       "       'Indeed', 'Google Search', 'Diversity Job Fair', 'Google Search',\n",
       "       'Diversity Job Fair', 'Google Search', 'Employee Referral',\n",
       "       'Indeed', 'Google Search', 'Indeed', 'Indeed', 'LinkedIn',\n",
       "       'LinkedIn', 'Indeed', 'Google Search', 'Indeed', 'Indeed',\n",
       "       'LinkedIn', 'Employee Referral', 'Indeed', 'Indeed', 'Indeed',\n",
       "       'Google Search', 'Indeed', 'Employee Referral',\n",
       "       'Employee Referral', 'LinkedIn', 'CareerBuilder', 'Indeed',\n",
       "       'Indeed', 'Indeed', 'LinkedIn', 'Employee Referral', 'Indeed',\n",
       "       'LinkedIn', 'Indeed', 'LinkedIn', 'Indeed', 'Indeed',\n",
       "       'CareerBuilder', 'Indeed', 'Google Search', 'Indeed', 'Indeed',\n",
       "       'Indeed', 'Website', 'Indeed', 'CareerBuilder',\n",
       "       'Employee Referral', 'Indeed', 'Indeed', 'Google Search',\n",
       "       'Google Search', 'Google Search', 'LinkedIn', 'Employee Referral',\n",
       "       'Indeed', 'Google Search', 'Google Search', 'Indeed', 'LinkedIn',\n",
       "       'LinkedIn', 'Google Search', 'Indeed', 'LinkedIn', 'Google Search',\n",
       "       'Google Search', 'Google Search', 'Employee Referral', 'Indeed',\n",
       "       'Other', 'CareerBuilder', 'LinkedIn', 'Employee Referral',\n",
       "       'LinkedIn', 'LinkedIn', 'Diversity Job Fair', 'CareerBuilder',\n",
       "       'Diversity Job Fair', 'Indeed', 'Indeed', 'Indeed', 'LinkedIn',\n",
       "       'Indeed', 'Diversity Job Fair', 'Diversity Job Fair',\n",
       "       'Employee Referral', 'LinkedIn', 'LinkedIn', 'Google Search',\n",
       "       'LinkedIn', 'Employee Referral', 'CareerBuilder', 'Indeed',\n",
       "       'LinkedIn', 'Google Search', 'LinkedIn', 'CareerBuilder',\n",
       "       'CareerBuilder', 'Google Search', 'CareerBuilder', 'Indeed',\n",
       "       'Indeed', 'Indeed', 'LinkedIn', 'Indeed', 'LinkedIn', 'LinkedIn',\n",
       "       'Indeed', 'Google Search', 'Indeed', 'Indeed', 'LinkedIn',\n",
       "       'Employee Referral', 'LinkedIn', 'LinkedIn', 'CareerBuilder',\n",
       "       'Indeed', 'LinkedIn', 'CareerBuilder', 'Google Search', 'Indeed',\n",
       "       'Indeed', 'Indeed', 'Google Search', 'Google Search', 'LinkedIn',\n",
       "       'Indeed', 'Diversity Job Fair', 'Employee Referral',\n",
       "       'Employee Referral', 'Indeed', 'LinkedIn', 'Website',\n",
       "       'Google Search', 'Indeed', 'CareerBuilder', 'CareerBuilder',\n",
       "       'Google Search', 'Website', 'Website', 'Indeed', 'LinkedIn',\n",
       "       'Diversity Job Fair', 'LinkedIn', 'Indeed', 'Website',\n",
       "       'Diversity Job Fair', 'Indeed', 'LinkedIn', 'LinkedIn', 'LinkedIn',\n",
       "       'LinkedIn', 'Google Search', 'Indeed', 'LinkedIn', 'CareerBuilder',\n",
       "       'Website', 'Diversity Job Fair', 'CareerBuilder', 'Indeed',\n",
       "       'LinkedIn', 'LinkedIn', 'Diversity Job Fair', 'Indeed',\n",
       "       'Diversity Job Fair', 'CareerBuilder', 'LinkedIn', 'LinkedIn',\n",
       "       'LinkedIn', 'Indeed', 'Diversity Job Fair', 'Employee Referral',\n",
       "       'LinkedIn', 'Diversity Job Fair', 'Indeed', 'LinkedIn', 'Indeed',\n",
       "       'LinkedIn', 'LinkedIn', 'Indeed', 'LinkedIn', 'LinkedIn',\n",
       "       'Website', 'Google Search', 'Diversity Job Fair',\n",
       "       'Employee Referral', 'Google Search', 'CareerBuilder', 'LinkedIn',\n",
       "       'Indeed', 'Indeed', 'LinkedIn', 'Employee Referral',\n",
       "       'Google Search', 'Google Search', 'Website', 'Google Search',\n",
       "       'Employee Referral', 'Indeed', 'Diversity Job Fair', 'Indeed',\n",
       "       'Indeed', 'CareerBuilder', 'LinkedIn', 'Google Search',\n",
       "       'Google Search', 'Indeed', 'Indeed', 'Indeed', 'Employee Referral',\n",
       "       'Employee Referral', 'LinkedIn', 'Indeed', 'Website',\n",
       "       'Google Search', 'Indeed', 'Diversity Job Fair', 'Indeed',\n",
       "       'Diversity Job Fair', 'Google Search', 'CareerBuilder', 'LinkedIn',\n",
       "       'LinkedIn', 'Google Search', 'LinkedIn', 'LinkedIn',\n",
       "       'Employee Referral', 'Website', 'CareerBuilder', 'Indeed',\n",
       "       'Diversity Job Fair', 'Diversity Job Fair', 'Employee Referral',\n",
       "       'LinkedIn', 'LinkedIn', 'Indeed', 'LinkedIn', 'LinkedIn',\n",
       "       'Google Search', 'Website', 'Indeed', 'LinkedIn', 'Indeed',\n",
       "       'Indeed', 'Google Search', 'Indeed', 'LinkedIn', 'Indeed',\n",
       "       'Diversity Job Fair', 'Google Search', 'Indeed', 'Indeed', 'Other',\n",
       "       'Indeed', 'Indeed', 'LinkedIn', 'CareerBuilder',\n",
       "       'Diversity Job Fair', 'LinkedIn', 'Employee Referral', 'Indeed',\n",
       "       'LinkedIn', 'Employee Referral', 'Website', 'Employee Referral',\n",
       "       'Google Search', 'LinkedIn', 'Employee Referral',\n",
       "       'Diversity Job Fair', 'CareerBuilder', 'Indeed',\n",
       "       'Employee Referral', 'LinkedIn', 'Website', 'Google Search',\n",
       "       'Diversity Job Fair', 'LinkedIn', 'LinkedIn', 'LinkedIn',\n",
       "       'Google Search', 'Employee Referral', 'Employee Referral',\n",
       "       'LinkedIn'], dtype=object)"
      ]
     },
     "execution_count": 9,
     "metadata": {},
     "output_type": "execute_result"
    }
   ],
   "source": [
    "# this generates a list (ndarray) of values in a column\n",
    "df['RecruitmentSource'].values"
   ]
  },
  {
   "cell_type": "code",
   "execution_count": 10,
   "id": "fa69fc01",
   "metadata": {},
   "outputs": [
    {
     "data": {
      "text/plain": [
       "array(['LinkedIn', 'Indeed', 'Google Search', 'Employee Referral',\n",
       "       'Diversity Job Fair', 'On-line Web application', 'CareerBuilder',\n",
       "       'Website', 'Other'], dtype=object)"
      ]
     },
     "execution_count": 10,
     "metadata": {},
     "output_type": "execute_result"
    }
   ],
   "source": [
    "# this generates a list (ndarray) of unique values in a column\n",
    "df['RecruitmentSource'].unique()"
   ]
  },
  {
   "cell_type": "code",
   "execution_count": 11,
   "id": "b6ab322e",
   "metadata": {},
   "outputs": [
    {
     "data": {
      "text/plain": [
       "9"
      ]
     },
     "execution_count": 11,
     "metadata": {},
     "output_type": "execute_result"
    }
   ],
   "source": [
    "# this generates number of unique values in the dataframe\n",
    "df['RecruitmentSource'].nunique()"
   ]
  },
  {
   "cell_type": "code",
   "execution_count": 12,
   "id": "e497cfe0",
   "metadata": {},
   "outputs": [
    {
     "data": {
      "text/plain": [
       "18.0    22\n",
       "20.0    22\n",
       "16.0    22\n",
       "12.0    22\n",
       "19.0    21\n",
       "14.0    21\n",
       "22.0    21\n",
       "11.0    21\n",
       "2.0     19\n",
       "4.0     17\n",
       "7.0     14\n",
       "17.0    14\n",
       "39.0    13\n",
       "21.0    13\n",
       "10.0     9\n",
       "13.0     8\n",
       "5.0      7\n",
       "1.0      6\n",
       "6.0      4\n",
       "15.0     3\n",
       "9.0      2\n",
       "3.0      1\n",
       "30.0     1\n",
       "Name: ManagerID, dtype: int64"
      ]
     },
     "execution_count": 12,
     "metadata": {},
     "output_type": "execute_result"
    }
   ],
   "source": [
    "# this generates a Series with record counts grouped by the column \n",
    "# Row Index has unique values and Value axis has counts\n",
    "# NOTE: The output does not count NaN's and the output is sorted descending by the values.\n",
    "df['ManagerID'].value_counts()"
   ]
  },
  {
   "cell_type": "code",
   "execution_count": 13,
   "id": "4f7ce0c2",
   "metadata": {},
   "outputs": [
    {
     "data": {
      "text/plain": [
       "NaN      8\n",
       "1.0      6\n",
       "2.0     19\n",
       "3.0      1\n",
       "4.0     17\n",
       "5.0      7\n",
       "6.0      4\n",
       "7.0     14\n",
       "9.0      2\n",
       "10.0     9\n",
       "11.0    21\n",
       "12.0    22\n",
       "13.0     8\n",
       "14.0    21\n",
       "15.0     3\n",
       "16.0    22\n",
       "17.0    14\n",
       "18.0    22\n",
       "19.0    21\n",
       "20.0    22\n",
       "21.0    13\n",
       "22.0    21\n",
       "30.0     1\n",
       "39.0    13\n",
       "Name: ManagerID, dtype: int64"
      ]
     },
     "execution_count": 13,
     "metadata": {},
     "output_type": "execute_result"
    }
   ],
   "source": [
    "# If NaN's are to be counted and the output is to be sorted by the grouping key (meaning the Index here)\n",
    "df['ManagerID'].value_counts(dropna = False).sort_index(na_position = 'first')"
   ]
  }
 ],
 "metadata": {
  "kernelspec": {
   "display_name": "venv",
   "language": "python",
   "name": "venv"
  },
  "language_info": {
   "codemirror_mode": {
    "name": "ipython",
    "version": 3
   },
   "file_extension": ".py",
   "mimetype": "text/x-python",
   "name": "python",
   "nbconvert_exporter": "python",
   "pygments_lexer": "ipython3",
   "version": "3.9.1"
  }
 },
 "nbformat": 4,
 "nbformat_minor": 5
}
