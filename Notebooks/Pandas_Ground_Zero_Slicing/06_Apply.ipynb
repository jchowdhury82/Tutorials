{
 "cells": [
  {
   "cell_type": "code",
   "execution_count": 1,
   "id": "c8c52f05",
   "metadata": {},
   "outputs": [],
   "source": [
    "import pandas as pd\n",
    "import numpy as np"
   ]
  },
  {
   "cell_type": "code",
   "execution_count": 2,
   "id": "66290409",
   "metadata": {},
   "outputs": [
    {
     "data": {
      "text/html": [
       "<div>\n",
       "<style scoped>\n",
       "    .dataframe tbody tr th:only-of-type {\n",
       "        vertical-align: middle;\n",
       "    }\n",
       "\n",
       "    .dataframe tbody tr th {\n",
       "        vertical-align: top;\n",
       "    }\n",
       "\n",
       "    .dataframe thead th {\n",
       "        text-align: right;\n",
       "    }\n",
       "</style>\n",
       "<table border=\"1\" class=\"dataframe\">\n",
       "  <thead>\n",
       "    <tr style=\"text-align: right;\">\n",
       "      <th></th>\n",
       "      <th>Name</th>\n",
       "      <th>Gender</th>\n",
       "      <th>Age</th>\n",
       "    </tr>\n",
       "  </thead>\n",
       "  <tbody>\n",
       "    <tr>\n",
       "      <th>0</th>\n",
       "      <td>Alex Smith</td>\n",
       "      <td>M</td>\n",
       "      <td>24</td>\n",
       "    </tr>\n",
       "    <tr>\n",
       "      <th>1</th>\n",
       "      <td>Anna McDowell</td>\n",
       "      <td>F</td>\n",
       "      <td>18</td>\n",
       "    </tr>\n",
       "    <tr>\n",
       "      <th>2</th>\n",
       "      <td>Jodie King</td>\n",
       "      <td>F</td>\n",
       "      <td>32</td>\n",
       "    </tr>\n",
       "    <tr>\n",
       "      <th>3</th>\n",
       "      <td>Liza Foster</td>\n",
       "      <td>T</td>\n",
       "      <td>34</td>\n",
       "    </tr>\n",
       "  </tbody>\n",
       "</table>\n",
       "</div>"
      ],
      "text/plain": [
       "            Name Gender  Age\n",
       "0     Alex Smith      M   24\n",
       "1  Anna McDowell      F   18\n",
       "2     Jodie King      F   32\n",
       "3    Liza Foster      T   34"
      ]
     },
     "execution_count": 2,
     "metadata": {},
     "output_type": "execute_result"
    }
   ],
   "source": [
    "df = pd.DataFrame({\n",
    "                  'Name': ['Alex Smith', 'Anna McDowell', 'Jodie King', 'Liza Foster'],\n",
    "                  'Gender': ['M','F','F','T'],\n",
    "                  'Age': [24,18,32,34]  \n",
    "                })\n",
    "df"
   ]
  },
  {
   "cell_type": "code",
   "execution_count": 3,
   "id": "840b3293",
   "metadata": {},
   "outputs": [
    {
     "name": "stdout",
     "output_type": "stream",
     "text": [
      "<class 'pandas.core.frame.DataFrame'>\n",
      "RangeIndex: 4 entries, 0 to 3\n",
      "Data columns (total 3 columns):\n",
      " #   Column  Non-Null Count  Dtype \n",
      "---  ------  --------------  ----- \n",
      " 0   Name    4 non-null      object\n",
      " 1   Gender  4 non-null      object\n",
      " 2   Age     4 non-null      int64 \n",
      "dtypes: int64(1), object(2)\n",
      "memory usage: 224.0+ bytes\n"
     ]
    }
   ],
   "source": [
    "df.info()"
   ]
  },
  {
   "cell_type": "markdown",
   "id": "b4ad0cd5",
   "metadata": {},
   "source": [
    "#### Concept"
   ]
  },
  {
   "cell_type": "code",
   "execution_count": 4,
   "id": "91810cfa",
   "metadata": {},
   "outputs": [],
   "source": [
    "def printme(x):\n",
    "    # show me the data type of x \n",
    "    print(f\"type(x) = {type(x)}\")\n",
    "    # show me the value of x \n",
    "    print(f\"print(x) = \\n{x}\")"
   ]
  },
  {
   "cell_type": "code",
   "execution_count": 5,
   "id": "3958b6fe",
   "metadata": {},
   "outputs": [
    {
     "name": "stdout",
     "output_type": "stream",
     "text": [
      "type(x) = <class 'pandas.core.series.Series'>\n",
      "print(x) = \n",
      "0       Alex Smith\n",
      "1    Anna McDowell\n",
      "2       Jodie King\n",
      "3      Liza Foster\n",
      "Name: Name, dtype: object\n",
      "type(x) = <class 'pandas.core.series.Series'>\n",
      "print(x) = \n",
      "0    M\n",
      "1    F\n",
      "2    F\n",
      "3    T\n",
      "Name: Gender, dtype: object\n",
      "type(x) = <class 'pandas.core.series.Series'>\n",
      "print(x) = \n",
      "0    24\n",
      "1    18\n",
      "2    32\n",
      "3    34\n",
      "Name: Age, dtype: int64\n"
     ]
    },
    {
     "data": {
      "text/plain": [
       "Name      None\n",
       "Gender    None\n",
       "Age       None\n",
       "dtype: object"
      ]
     },
     "execution_count": 5,
     "metadata": {},
     "output_type": "execute_result"
    }
   ],
   "source": [
    "# Pass entire dataframe to the printme function, each column at a time\n",
    "df.apply(printme, axis = 0)"
   ]
  },
  {
   "cell_type": "code",
   "execution_count": 6,
   "id": "83fa92da",
   "metadata": {},
   "outputs": [
    {
     "name": "stdout",
     "output_type": "stream",
     "text": [
      "type(x) = <class 'pandas.core.series.Series'>\n",
      "print(x) = \n",
      "Name      Alex Smith\n",
      "Gender             M\n",
      "Age               24\n",
      "Name: 0, dtype: object\n",
      "type(x) = <class 'pandas.core.series.Series'>\n",
      "print(x) = \n",
      "Name      Anna McDowell\n",
      "Gender                F\n",
      "Age                  18\n",
      "Name: 1, dtype: object\n",
      "type(x) = <class 'pandas.core.series.Series'>\n",
      "print(x) = \n",
      "Name      Jodie King\n",
      "Gender             F\n",
      "Age               32\n",
      "Name: 2, dtype: object\n",
      "type(x) = <class 'pandas.core.series.Series'>\n",
      "print(x) = \n",
      "Name      Liza Foster\n",
      "Gender              T\n",
      "Age                34\n",
      "Name: 3, dtype: object\n"
     ]
    },
    {
     "data": {
      "text/plain": [
       "0    None\n",
       "1    None\n",
       "2    None\n",
       "3    None\n",
       "dtype: object"
      ]
     },
     "execution_count": 6,
     "metadata": {},
     "output_type": "execute_result"
    }
   ],
   "source": [
    "# Pass entire dataframe to the printme function, each row at a time\n",
    "df.apply(printme, axis = 1)"
   ]
  },
  {
   "cell_type": "code",
   "execution_count": 7,
   "id": "dbbbfe1c",
   "metadata": {},
   "outputs": [
    {
     "name": "stdout",
     "output_type": "stream",
     "text": [
      "type(x) = <class 'str'>\n",
      "print(x) = \n",
      "Jodie King\n",
      "type(x) = <class 'str'>\n",
      "print(x) = \n",
      "F\n",
      "type(x) = <class 'numpy.int64'>\n",
      "print(x) = \n",
      "32\n"
     ]
    },
    {
     "data": {
      "text/plain": [
       "Name      None\n",
       "Gender    None\n",
       "Age       None\n",
       "Name: 2, dtype: object"
      ]
     },
     "execution_count": 7,
     "metadata": {},
     "output_type": "execute_result"
    }
   ],
   "source": [
    "# Use apply on a single ROW \n",
    "# NOTE here that apply() does not pass a Series any more and there is no Axis parameter\n",
    "# Instead the values are each \"scalar\" elements of the row are passed to the function\n",
    "df.loc[2].apply(printme)"
   ]
  },
  {
   "cell_type": "code",
   "execution_count": 8,
   "id": "5e75fabc",
   "metadata": {},
   "outputs": [
    {
     "name": "stdout",
     "output_type": "stream",
     "text": [
      "type(x) = <class 'int'>\n",
      "print(x) = \n",
      "24\n",
      "type(x) = <class 'int'>\n",
      "print(x) = \n",
      "18\n",
      "type(x) = <class 'int'>\n",
      "print(x) = \n",
      "32\n",
      "type(x) = <class 'int'>\n",
      "print(x) = \n",
      "34\n"
     ]
    },
    {
     "data": {
      "text/plain": [
       "0    None\n",
       "1    None\n",
       "2    None\n",
       "3    None\n",
       "Name: Age, dtype: object"
      ]
     },
     "execution_count": 8,
     "metadata": {},
     "output_type": "execute_result"
    }
   ],
   "source": [
    "# Use apply on a single COLUMN \n",
    "# NOTE here that the values passed are not Series any more and there is no Axis parameter\n",
    "# Instead the values are each \"scalar\" elements of the column are passed to the function\n",
    "df.loc[:,'Age'].apply(printme)"
   ]
  },
  {
   "cell_type": "markdown",
   "id": "0bf6eb82",
   "metadata": {},
   "source": [
    "### Using native functions"
   ]
  },
  {
   "cell_type": "code",
   "execution_count": 9,
   "id": "aa79f82a",
   "metadata": {},
   "outputs": [
    {
     "data": {
      "text/html": [
       "<div>\n",
       "<style scoped>\n",
       "    .dataframe tbody tr th:only-of-type {\n",
       "        vertical-align: middle;\n",
       "    }\n",
       "\n",
       "    .dataframe tbody tr th {\n",
       "        vertical-align: top;\n",
       "    }\n",
       "\n",
       "    .dataframe thead th {\n",
       "        text-align: right;\n",
       "    }\n",
       "</style>\n",
       "<table border=\"1\" class=\"dataframe\">\n",
       "  <thead>\n",
       "    <tr style=\"text-align: right;\">\n",
       "      <th></th>\n",
       "      <th>Name</th>\n",
       "      <th>Gender</th>\n",
       "      <th>Age</th>\n",
       "    </tr>\n",
       "  </thead>\n",
       "  <tbody>\n",
       "    <tr>\n",
       "      <th>0</th>\n",
       "      <td>Alex Smith</td>\n",
       "      <td>M</td>\n",
       "      <td>24</td>\n",
       "    </tr>\n",
       "    <tr>\n",
       "      <th>1</th>\n",
       "      <td>Anna McDowell</td>\n",
       "      <td>F</td>\n",
       "      <td>18</td>\n",
       "    </tr>\n",
       "    <tr>\n",
       "      <th>2</th>\n",
       "      <td>Jodie King</td>\n",
       "      <td>F</td>\n",
       "      <td>32</td>\n",
       "    </tr>\n",
       "    <tr>\n",
       "      <th>3</th>\n",
       "      <td>Liza Foster</td>\n",
       "      <td>T</td>\n",
       "      <td>34</td>\n",
       "    </tr>\n",
       "  </tbody>\n",
       "</table>\n",
       "</div>"
      ],
      "text/plain": [
       "            Name Gender  Age\n",
       "0     Alex Smith      M   24\n",
       "1  Anna McDowell      F   18\n",
       "2     Jodie King      F   32\n",
       "3    Liza Foster      T   34"
      ]
     },
     "execution_count": 9,
     "metadata": {},
     "output_type": "execute_result"
    }
   ],
   "source": [
    "df"
   ]
  },
  {
   "cell_type": "code",
   "execution_count": 10,
   "id": "d738ebd0",
   "metadata": {},
   "outputs": [
    {
     "data": {
      "text/plain": [
       "0    10\n",
       "1    13\n",
       "2    10\n",
       "3    11\n",
       "Name: Name, dtype: int64"
      ]
     },
     "execution_count": 10,
     "metadata": {},
     "output_type": "execute_result"
    }
   ],
   "source": [
    "# Find length of each Name\n",
    "# This means:  for all values x in column 'Name', return len(x) and index them by the original row index\n",
    "df['Name'].apply(len)"
   ]
  },
  {
   "cell_type": "code",
   "execution_count": 11,
   "id": "a96e1465",
   "metadata": {},
   "outputs": [
    {
     "data": {
      "text/plain": [
       "0    24\n",
       "1    18\n",
       "2    32\n",
       "3    34\n",
       "Name: Age, dtype: object"
      ]
     },
     "execution_count": 11,
     "metadata": {},
     "output_type": "execute_result"
    }
   ],
   "source": [
    "# Convert each Age to string\n",
    "# This means:  for all values x in column 'Age', return str(x) and index them by the original row index\n",
    "# See the dtype has changed to Object\n",
    "df['Age'].apply(str)"
   ]
  },
  {
   "cell_type": "code",
   "execution_count": 12,
   "id": "bdc3c633",
   "metadata": {},
   "outputs": [
    {
     "data": {
      "text/plain": [
       "0     576\n",
       "1     324\n",
       "2    1024\n",
       "3    1156\n",
       "Name: Age, dtype: int64"
      ]
     },
     "execution_count": 12,
     "metadata": {},
     "output_type": "execute_result"
    }
   ],
   "source": [
    "# Find the square of age values\n",
    "# This means:  for all values x in column 'Age', return square(x) and index them by the original row index\n",
    "# See the dtype has changed to Object\n",
    "df['Age'].apply(np.square)"
   ]
  },
  {
   "cell_type": "markdown",
   "id": "beacc23e",
   "metadata": {},
   "source": [
    "### Using lambda functions"
   ]
  },
  {
   "cell_type": "code",
   "execution_count": 13,
   "id": "76a1ec53",
   "metadata": {},
   "outputs": [
    {
     "data": {
      "text/plain": [
       "0           Male\n",
       "1         Female\n",
       "2         Female\n",
       "3    Transgender\n",
       "Name: Gender, dtype: object"
      ]
     },
     "execution_count": 13,
     "metadata": {},
     "output_type": "execute_result"
    }
   ],
   "source": [
    "# Convert each Gender code to its value based on a Dictionary\n",
    "# This means:  for all values x in column 'Gender', return gender_dict[x] and index them by the original row index\n",
    "\n",
    "gender_dict = {'T' : 'Transgender',\n",
    "                'O' : 'Other',\n",
    "                'M' : 'Male',\n",
    "                'F' : 'Female'}\n",
    "\n",
    "df['Gender'].apply(lambda x: gender_dict[x])"
   ]
  },
  {
   "cell_type": "code",
   "execution_count": 14,
   "id": "29712e68",
   "metadata": {},
   "outputs": [
    {
     "data": {
      "text/plain": [
       "0       alex smith\n",
       "1    anna mcdowell\n",
       "2       jodie king\n",
       "3      liza foster\n",
       "Name: Name, dtype: object"
      ]
     },
     "execution_count": 14,
     "metadata": {},
     "output_type": "execute_result"
    }
   ],
   "source": [
    "# Convert each name to lower case\n",
    "# This means:  for all values x in column 'Name', find matching bin using np.digitize(x,bins) function\n",
    "\n",
    "df['Name'].apply(lambda x: x.lower())"
   ]
  },
  {
   "cell_type": "code",
   "execution_count": 15,
   "id": "e9f865d3",
   "metadata": {},
   "outputs": [
    {
     "data": {
      "text/plain": [
       "0    2\n",
       "1    1\n",
       "2    3\n",
       "3    3\n",
       "Name: Age, dtype: int64"
      ]
     },
     "execution_count": 15,
     "metadata": {},
     "output_type": "execute_result"
    }
   ],
   "source": [
    "# Find which age bucket does a person fall if age buckets are (1 = 10-20 yrs, 2 = 20-30yrs, 3 = 30-40yrs)\n",
    "# This means:  for all values x in column 'Age', find matching bin using np.digitize(x,bins) function\n",
    "\n",
    "df['Age'].apply(lambda x: np.digitize(x, bins = [10,20,30,40]))"
   ]
  },
  {
   "cell_type": "code",
   "execution_count": 16,
   "id": "43c09ba5",
   "metadata": {},
   "outputs": [
    {
     "data": {
      "text/plain": [
       "0     Alex\n",
       "1     Anna\n",
       "2    Jodie\n",
       "3     Liza\n",
       "Name: Name, dtype: object"
      ]
     },
     "execution_count": 16,
     "metadata": {},
     "output_type": "execute_result"
    }
   ],
   "source": [
    "# Find all first names from the 'Name' column\n",
    "\n",
    "df['Name'].apply(lambda x: x.split()[0])"
   ]
  },
  {
   "cell_type": "markdown",
   "id": "e4a91264",
   "metadata": {},
   "source": [
    "#### Appending output of apply() as a new column in the dataframe"
   ]
  },
  {
   "cell_type": "code",
   "execution_count": 17,
   "id": "3169b1eb",
   "metadata": {},
   "outputs": [
    {
     "data": {
      "text/html": [
       "<div>\n",
       "<style scoped>\n",
       "    .dataframe tbody tr th:only-of-type {\n",
       "        vertical-align: middle;\n",
       "    }\n",
       "\n",
       "    .dataframe tbody tr th {\n",
       "        vertical-align: top;\n",
       "    }\n",
       "\n",
       "    .dataframe thead th {\n",
       "        text-align: right;\n",
       "    }\n",
       "</style>\n",
       "<table border=\"1\" class=\"dataframe\">\n",
       "  <thead>\n",
       "    <tr style=\"text-align: right;\">\n",
       "      <th></th>\n",
       "      <th>Name</th>\n",
       "      <th>Gender</th>\n",
       "      <th>Age</th>\n",
       "      <th>AgeGroup</th>\n",
       "    </tr>\n",
       "  </thead>\n",
       "  <tbody>\n",
       "    <tr>\n",
       "      <th>0</th>\n",
       "      <td>Alex Smith</td>\n",
       "      <td>M</td>\n",
       "      <td>24</td>\n",
       "      <td>2</td>\n",
       "    </tr>\n",
       "    <tr>\n",
       "      <th>1</th>\n",
       "      <td>Anna McDowell</td>\n",
       "      <td>F</td>\n",
       "      <td>18</td>\n",
       "      <td>1</td>\n",
       "    </tr>\n",
       "    <tr>\n",
       "      <th>2</th>\n",
       "      <td>Jodie King</td>\n",
       "      <td>F</td>\n",
       "      <td>32</td>\n",
       "      <td>3</td>\n",
       "    </tr>\n",
       "    <tr>\n",
       "      <th>3</th>\n",
       "      <td>Liza Foster</td>\n",
       "      <td>T</td>\n",
       "      <td>34</td>\n",
       "      <td>3</td>\n",
       "    </tr>\n",
       "  </tbody>\n",
       "</table>\n",
       "</div>"
      ],
      "text/plain": [
       "            Name Gender  Age  AgeGroup\n",
       "0     Alex Smith      M   24         2\n",
       "1  Anna McDowell      F   18         1\n",
       "2     Jodie King      F   32         3\n",
       "3    Liza Foster      T   34         3"
      ]
     },
     "execution_count": 17,
     "metadata": {},
     "output_type": "execute_result"
    }
   ],
   "source": [
    "# Calculate age group using apply as shown above\n",
    "# The output is a Series with same Row Index set, so we can create a new column of the dataframe and assign it\n",
    "# using this output. The assignment causes Row Indexes to be matched and the new values appended accordingly\n",
    "\n",
    "df['AgeGroup'] = df['Age'].apply(lambda x: np.digitize(x, bins = [10,20,30,40]))\n",
    "df"
   ]
  },
  {
   "cell_type": "code",
   "execution_count": 18,
   "id": "eee6433b",
   "metadata": {},
   "outputs": [
    {
     "data": {
      "text/html": [
       "<div>\n",
       "<style scoped>\n",
       "    .dataframe tbody tr th:only-of-type {\n",
       "        vertical-align: middle;\n",
       "    }\n",
       "\n",
       "    .dataframe tbody tr th {\n",
       "        vertical-align: top;\n",
       "    }\n",
       "\n",
       "    .dataframe thead th {\n",
       "        text-align: right;\n",
       "    }\n",
       "</style>\n",
       "<table border=\"1\" class=\"dataframe\">\n",
       "  <thead>\n",
       "    <tr style=\"text-align: right;\">\n",
       "      <th></th>\n",
       "      <th>Name</th>\n",
       "      <th>Gender</th>\n",
       "      <th>Age</th>\n",
       "      <th>AgeGroup</th>\n",
       "      <th>FirstName</th>\n",
       "      <th>LastName</th>\n",
       "    </tr>\n",
       "  </thead>\n",
       "  <tbody>\n",
       "    <tr>\n",
       "      <th>0</th>\n",
       "      <td>Alex Smith</td>\n",
       "      <td>M</td>\n",
       "      <td>24</td>\n",
       "      <td>2</td>\n",
       "      <td>Alex</td>\n",
       "      <td>Smith</td>\n",
       "    </tr>\n",
       "    <tr>\n",
       "      <th>1</th>\n",
       "      <td>Anna McDowell</td>\n",
       "      <td>F</td>\n",
       "      <td>18</td>\n",
       "      <td>1</td>\n",
       "      <td>Anna</td>\n",
       "      <td>McDowell</td>\n",
       "    </tr>\n",
       "    <tr>\n",
       "      <th>2</th>\n",
       "      <td>Jodie King</td>\n",
       "      <td>F</td>\n",
       "      <td>32</td>\n",
       "      <td>3</td>\n",
       "      <td>Jodie</td>\n",
       "      <td>King</td>\n",
       "    </tr>\n",
       "    <tr>\n",
       "      <th>3</th>\n",
       "      <td>Liza Foster</td>\n",
       "      <td>T</td>\n",
       "      <td>34</td>\n",
       "      <td>3</td>\n",
       "      <td>Liza</td>\n",
       "      <td>Foster</td>\n",
       "    </tr>\n",
       "  </tbody>\n",
       "</table>\n",
       "</div>"
      ],
      "text/plain": [
       "            Name Gender  Age  AgeGroup FirstName  LastName\n",
       "0     Alex Smith      M   24         2      Alex     Smith\n",
       "1  Anna McDowell      F   18         1      Anna  McDowell\n",
       "2     Jodie King      F   32         3     Jodie      King\n",
       "3    Liza Foster      T   34         3      Liza    Foster"
      ]
     },
     "execution_count": 18,
     "metadata": {},
     "output_type": "execute_result"
    }
   ],
   "source": [
    "# Split Name into First Name and Last Name and create new columns\n",
    "df['FirstName'] = df['Name'].apply(lambda x:x.split()[0])\n",
    "df['LastName'] = df['Name'].apply(lambda x:x.split()[-1])\n",
    "df"
   ]
  },
  {
   "cell_type": "code",
   "execution_count": 19,
   "id": "4861157a",
   "metadata": {},
   "outputs": [
    {
     "data": {
      "text/html": [
       "<div>\n",
       "<style scoped>\n",
       "    .dataframe tbody tr th:only-of-type {\n",
       "        vertical-align: middle;\n",
       "    }\n",
       "\n",
       "    .dataframe tbody tr th {\n",
       "        vertical-align: top;\n",
       "    }\n",
       "\n",
       "    .dataframe thead th {\n",
       "        text-align: right;\n",
       "    }\n",
       "</style>\n",
       "<table border=\"1\" class=\"dataframe\">\n",
       "  <thead>\n",
       "    <tr style=\"text-align: right;\">\n",
       "      <th></th>\n",
       "      <th>Name</th>\n",
       "      <th>Gender</th>\n",
       "      <th>Age</th>\n",
       "      <th>AgeGroup</th>\n",
       "      <th>FirstName</th>\n",
       "      <th>LastName</th>\n",
       "      <th>FirstName1</th>\n",
       "      <th>LastName1</th>\n",
       "    </tr>\n",
       "  </thead>\n",
       "  <tbody>\n",
       "    <tr>\n",
       "      <th>0</th>\n",
       "      <td>Alex Smith</td>\n",
       "      <td>M</td>\n",
       "      <td>24</td>\n",
       "      <td>2</td>\n",
       "      <td>Alex</td>\n",
       "      <td>Smith</td>\n",
       "      <td>Alex</td>\n",
       "      <td>Smith</td>\n",
       "    </tr>\n",
       "    <tr>\n",
       "      <th>1</th>\n",
       "      <td>Anna McDowell</td>\n",
       "      <td>F</td>\n",
       "      <td>18</td>\n",
       "      <td>1</td>\n",
       "      <td>Anna</td>\n",
       "      <td>McDowell</td>\n",
       "      <td>Anna</td>\n",
       "      <td>McDowell</td>\n",
       "    </tr>\n",
       "    <tr>\n",
       "      <th>2</th>\n",
       "      <td>Jodie King</td>\n",
       "      <td>F</td>\n",
       "      <td>32</td>\n",
       "      <td>3</td>\n",
       "      <td>Jodie</td>\n",
       "      <td>King</td>\n",
       "      <td>Jodie</td>\n",
       "      <td>King</td>\n",
       "    </tr>\n",
       "    <tr>\n",
       "      <th>3</th>\n",
       "      <td>Liza Foster</td>\n",
       "      <td>T</td>\n",
       "      <td>34</td>\n",
       "      <td>3</td>\n",
       "      <td>Liza</td>\n",
       "      <td>Foster</td>\n",
       "      <td>Liza</td>\n",
       "      <td>Foster</td>\n",
       "    </tr>\n",
       "  </tbody>\n",
       "</table>\n",
       "</div>"
      ],
      "text/plain": [
       "            Name Gender  Age  AgeGroup FirstName  LastName FirstName1  \\\n",
       "0     Alex Smith      M   24         2      Alex     Smith       Alex   \n",
       "1  Anna McDowell      F   18         1      Anna  McDowell       Anna   \n",
       "2     Jodie King      F   32         3     Jodie      King      Jodie   \n",
       "3    Liza Foster      T   34         3      Liza    Foster       Liza   \n",
       "\n",
       "  LastName1  \n",
       "0     Smith  \n",
       "1  McDowell  \n",
       "2      King  \n",
       "3    Foster  "
      ]
     },
     "execution_count": 19,
     "metadata": {},
     "output_type": "execute_result"
    }
   ],
   "source": [
    "# The above can also be done WITHOUT apply in one line - it uses the expand parameter from the str \n",
    "# function of the String accessor. This expands the result into two columns \n",
    "# They are renamed using set_axis and then added together\n",
    "df[['FirstName1','LastName1']] = df['Name'].str.split(expand = True).set_axis(['FName','LName'], axis =1)\n",
    "df"
   ]
  },
  {
   "cell_type": "code",
   "execution_count": null,
   "id": "000eff42",
   "metadata": {},
   "outputs": [],
   "source": []
  }
 ],
 "metadata": {
  "kernelspec": {
   "display_name": "venv",
   "language": "python",
   "name": "venv"
  },
  "language_info": {
   "codemirror_mode": {
    "name": "ipython",
    "version": 3
   },
   "file_extension": ".py",
   "mimetype": "text/x-python",
   "name": "python",
   "nbconvert_exporter": "python",
   "pygments_lexer": "ipython3",
   "version": "3.9.1"
  }
 },
 "nbformat": 4,
 "nbformat_minor": 5
}
