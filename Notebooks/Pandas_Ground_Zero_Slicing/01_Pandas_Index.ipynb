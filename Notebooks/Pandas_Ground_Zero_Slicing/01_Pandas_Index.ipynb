{
 "cells": [
  {
   "cell_type": "code",
   "execution_count": 1,
   "id": "c8c52f05",
   "metadata": {},
   "outputs": [],
   "source": [
    "import pandas as pd"
   ]
  },
  {
   "cell_type": "markdown",
   "id": "f908eeca",
   "metadata": {},
   "source": [
    "### Creation of Index"
   ]
  },
  {
   "cell_type": "code",
   "execution_count": 2,
   "id": "86794705",
   "metadata": {},
   "outputs": [
    {
     "data": {
      "text/plain": [
       "Index(['one', 2, 'three', 4, 'five'], dtype='object')"
      ]
     },
     "execution_count": 2,
     "metadata": {},
     "output_type": "execute_result"
    }
   ],
   "source": [
    "indexGeneric = pd.Index(['one',2,'three',4,'five'])\n",
    "indexGeneric"
   ]
  },
  {
   "cell_type": "code",
   "execution_count": 3,
   "id": "5e618bc1",
   "metadata": {},
   "outputs": [
    {
     "data": {
      "text/plain": [
       "Int64Index([1, 2, 3, 4, 5], dtype='int64')"
      ]
     },
     "execution_count": 3,
     "metadata": {},
     "output_type": "execute_result"
    }
   ],
   "source": [
    "indexInt64 = pd.Index([1, 2, 3, 4, 5])\n",
    "indexInt64"
   ]
  },
  {
   "cell_type": "code",
   "execution_count": 4,
   "id": "f2766944",
   "metadata": {},
   "outputs": [
    {
     "data": {
      "text/plain": [
       "DatetimeIndex(['2022-01-01 12:20:30', '2022-02-01 12:20:30',\n",
       "               '2022-03-01 12:20:30'],\n",
       "              dtype='datetime64[ns]', freq=None)"
      ]
     },
     "execution_count": 4,
     "metadata": {},
     "output_type": "execute_result"
    }
   ],
   "source": [
    "indexDateTime = pd.Index([pd.to_datetime('2022-01-01 12:20:30'),\n",
    "                    pd.to_datetime('2022-02-01 12:20:30'),\n",
    "                    pd.to_datetime('2022-03-01 12:20:30')\n",
    "                   ])\n",
    "indexDateTime"
   ]
  },
  {
   "cell_type": "markdown",
   "id": "b2130c2b",
   "metadata": {},
   "source": [
    "### Properties of Index - Select elements by boolean selectors"
   ]
  },
  {
   "cell_type": "code",
   "execution_count": 5,
   "id": "0b320cba",
   "metadata": {},
   "outputs": [],
   "source": [
    "# Create an index with intergers between 1 and 6\n",
    "indexInt = pd.Index([1, 2, 3, 4, 5,6])"
   ]
  },
  {
   "cell_type": "code",
   "execution_count": 6,
   "id": "871f73f7",
   "metadata": {},
   "outputs": [
    {
     "data": {
      "text/plain": [
       "Int64Index([2, 4, 6], dtype='int64')"
      ]
     },
     "execution_count": 6,
     "metadata": {},
     "output_type": "execute_result"
    }
   ],
   "source": [
    "# Get even numbers - Using hardcoded values in selector array\n",
    "selector = [False,True,False,True,False,True]\n",
    "indexInt[selector]"
   ]
  },
  {
   "cell_type": "code",
   "execution_count": 7,
   "id": "17375bee",
   "metadata": {},
   "outputs": [
    {
     "data": {
      "text/plain": [
       "array([False,  True, False,  True, False,  True])"
      ]
     },
     "execution_count": 7,
     "metadata": {},
     "output_type": "execute_result"
    }
   ],
   "source": [
    "# Get even numbers - Using mod 2 function to build selector array\n",
    "selector_using_function =  (indexInt%2 == 0)\n",
    "selector_using_function"
   ]
  },
  {
   "cell_type": "code",
   "execution_count": 8,
   "id": "63266eee",
   "metadata": {},
   "outputs": [
    {
     "data": {
      "text/plain": [
       "Int64Index([2, 4, 6], dtype='int64')"
      ]
     },
     "execution_count": 8,
     "metadata": {},
     "output_type": "execute_result"
    }
   ],
   "source": [
    "indexInt[selector_using_function]"
   ]
  },
  {
   "cell_type": "code",
   "execution_count": null,
   "id": "c461e174",
   "metadata": {},
   "outputs": [],
   "source": []
  }
 ],
 "metadata": {
  "kernelspec": {
   "display_name": "venv",
   "language": "python",
   "name": "venv"
  },
  "language_info": {
   "codemirror_mode": {
    "name": "ipython",
    "version": 3
   },
   "file_extension": ".py",
   "mimetype": "text/x-python",
   "name": "python",
   "nbconvert_exporter": "python",
   "pygments_lexer": "ipython3",
   "version": "3.9.1"
  }
 },
 "nbformat": 4,
 "nbformat_minor": 5
}
