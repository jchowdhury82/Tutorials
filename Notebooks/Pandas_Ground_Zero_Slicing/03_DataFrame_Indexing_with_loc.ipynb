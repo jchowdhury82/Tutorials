{
 "cells": [
  {
   "cell_type": "code",
   "execution_count": 1,
   "id": "c8c52f05",
   "metadata": {},
   "outputs": [],
   "source": [
    "import pandas as pd"
   ]
  },
  {
   "cell_type": "code",
   "execution_count": 2,
   "id": "cb5deb93",
   "metadata": {},
   "outputs": [
    {
     "data": {
      "text/html": [
       "<div>\n",
       "<style scoped>\n",
       "    .dataframe tbody tr th:only-of-type {\n",
       "        vertical-align: middle;\n",
       "    }\n",
       "\n",
       "    .dataframe tbody tr th {\n",
       "        vertical-align: top;\n",
       "    }\n",
       "\n",
       "    .dataframe thead th {\n",
       "        text-align: right;\n",
       "    }\n",
       "</style>\n",
       "<table border=\"1\" class=\"dataframe\">\n",
       "  <thead>\n",
       "    <tr style=\"text-align: right;\">\n",
       "      <th></th>\n",
       "      <th>digits</th>\n",
       "      <th>english</th>\n",
       "      <th>spanish</th>\n",
       "      <th>french</th>\n",
       "    </tr>\n",
       "  </thead>\n",
       "  <tbody>\n",
       "    <tr>\n",
       "      <th>0</th>\n",
       "      <td>1</td>\n",
       "      <td>one</td>\n",
       "      <td>uno</td>\n",
       "      <td>un</td>\n",
       "    </tr>\n",
       "    <tr>\n",
       "      <th>1</th>\n",
       "      <td>2</td>\n",
       "      <td>two</td>\n",
       "      <td>dos</td>\n",
       "      <td>deux</td>\n",
       "    </tr>\n",
       "    <tr>\n",
       "      <th>2</th>\n",
       "      <td>3</td>\n",
       "      <td>three</td>\n",
       "      <td>tres</td>\n",
       "      <td>trois</td>\n",
       "    </tr>\n",
       "    <tr>\n",
       "      <th>3</th>\n",
       "      <td>4</td>\n",
       "      <td>four</td>\n",
       "      <td>cuatro</td>\n",
       "      <td>quatre</td>\n",
       "    </tr>\n",
       "    <tr>\n",
       "      <th>4</th>\n",
       "      <td>5</td>\n",
       "      <td>five</td>\n",
       "      <td>cinco</td>\n",
       "      <td>cinq</td>\n",
       "    </tr>\n",
       "  </tbody>\n",
       "</table>\n",
       "</div>"
      ],
      "text/plain": [
       "   digits english spanish  french\n",
       "0       1     one     uno      un\n",
       "1       2     two     dos    deux\n",
       "2       3   three    tres   trois\n",
       "3       4    four  cuatro  quatre\n",
       "4       5    five   cinco    cinq"
      ]
     },
     "execution_count": 2,
     "metadata": {},
     "output_type": "execute_result"
    }
   ],
   "source": [
    "df = pd.DataFrame({\n",
    "                  'digits': [1,2,3,4,5],\n",
    "                  'english': ['one','two','three','four','five'],\n",
    "                  'spanish': ['uno','dos','tres','cuatro','cinco'],  \n",
    "                  'french': ['un','deux','trois','quatre','cinq']    \n",
    "                })\n",
    "df"
   ]
  },
  {
   "cell_type": "markdown",
   "id": "ea97da76",
   "metadata": {},
   "source": [
    "#### Using only row labels"
   ]
  },
  {
   "cell_type": "code",
   "execution_count": 3,
   "id": "3227d27c",
   "metadata": {},
   "outputs": [
    {
     "data": {
      "text/html": [
       "<div>\n",
       "<style scoped>\n",
       "    .dataframe tbody tr th:only-of-type {\n",
       "        vertical-align: middle;\n",
       "    }\n",
       "\n",
       "    .dataframe tbody tr th {\n",
       "        vertical-align: top;\n",
       "    }\n",
       "\n",
       "    .dataframe thead th {\n",
       "        text-align: right;\n",
       "    }\n",
       "</style>\n",
       "<table border=\"1\" class=\"dataframe\">\n",
       "  <thead>\n",
       "    <tr style=\"text-align: right;\">\n",
       "      <th></th>\n",
       "      <th>digits</th>\n",
       "      <th>english</th>\n",
       "      <th>spanish</th>\n",
       "      <th>french</th>\n",
       "    </tr>\n",
       "  </thead>\n",
       "  <tbody>\n",
       "    <tr>\n",
       "      <th>0</th>\n",
       "      <td>1</td>\n",
       "      <td>one</td>\n",
       "      <td>uno</td>\n",
       "      <td>un</td>\n",
       "    </tr>\n",
       "    <tr>\n",
       "      <th>2</th>\n",
       "      <td>3</td>\n",
       "      <td>three</td>\n",
       "      <td>tres</td>\n",
       "      <td>trois</td>\n",
       "    </tr>\n",
       "    <tr>\n",
       "      <th>4</th>\n",
       "      <td>5</td>\n",
       "      <td>five</td>\n",
       "      <td>cinco</td>\n",
       "      <td>cinq</td>\n",
       "    </tr>\n",
       "  </tbody>\n",
       "</table>\n",
       "</div>"
      ],
      "text/plain": [
       "   digits english spanish french\n",
       "0       1     one     uno     un\n",
       "2       3   three    tres  trois\n",
       "4       5    five   cinco   cinq"
      ]
     },
     "execution_count": 3,
     "metadata": {},
     "output_type": "execute_result"
    }
   ],
   "source": [
    "# Row labels are boolean selectors (hardcoded) - returns 1st, 3rd and 5th row of the DataFrame\n",
    "\n",
    "df.loc[[True, False, True, False, True]]"
   ]
  },
  {
   "cell_type": "code",
   "execution_count": 4,
   "id": "3f44454d",
   "metadata": {},
   "outputs": [
    {
     "data": {
      "text/plain": [
       "digits         3\n",
       "english    three\n",
       "spanish     tres\n",
       "french     trois\n",
       "Name: 2, dtype: object"
      ]
     },
     "execution_count": 4,
     "metadata": {},
     "output_type": "execute_result"
    }
   ],
   "source": [
    "# Row label is a single value from the DataFrame Index \n",
    "# This returns a Series with index = columns of the DataFrame and values = actual column values\n",
    "\n",
    "df.loc[2]"
   ]
  },
  {
   "cell_type": "code",
   "execution_count": 5,
   "id": "2c0e5a81",
   "metadata": {},
   "outputs": [
    {
     "data": {
      "text/html": [
       "<div>\n",
       "<style scoped>\n",
       "    .dataframe tbody tr th:only-of-type {\n",
       "        vertical-align: middle;\n",
       "    }\n",
       "\n",
       "    .dataframe tbody tr th {\n",
       "        vertical-align: top;\n",
       "    }\n",
       "\n",
       "    .dataframe thead th {\n",
       "        text-align: right;\n",
       "    }\n",
       "</style>\n",
       "<table border=\"1\" class=\"dataframe\">\n",
       "  <thead>\n",
       "    <tr style=\"text-align: right;\">\n",
       "      <th></th>\n",
       "      <th>digits</th>\n",
       "      <th>english</th>\n",
       "      <th>spanish</th>\n",
       "      <th>french</th>\n",
       "    </tr>\n",
       "  </thead>\n",
       "  <tbody>\n",
       "    <tr>\n",
       "      <th>2</th>\n",
       "      <td>3</td>\n",
       "      <td>three</td>\n",
       "      <td>tres</td>\n",
       "      <td>trois</td>\n",
       "    </tr>\n",
       "    <tr>\n",
       "      <th>3</th>\n",
       "      <td>4</td>\n",
       "      <td>four</td>\n",
       "      <td>cuatro</td>\n",
       "      <td>quatre</td>\n",
       "    </tr>\n",
       "    <tr>\n",
       "      <th>4</th>\n",
       "      <td>5</td>\n",
       "      <td>five</td>\n",
       "      <td>cinco</td>\n",
       "      <td>cinq</td>\n",
       "    </tr>\n",
       "  </tbody>\n",
       "</table>\n",
       "</div>"
      ],
      "text/plain": [
       "   digits english spanish  french\n",
       "2       3   three    tres   trois\n",
       "3       4    four  cuatro  quatre\n",
       "4       5    five   cinco    cinq"
      ]
     },
     "execution_count": 5,
     "metadata": {},
     "output_type": "execute_result"
    }
   ],
   "source": [
    "# Row label is a slice object of type start:end for the row index.\n",
    "# This returns a DataFrame with all columns but with rows having indexes in that slice range i.e. indexes 2,3,4\n",
    "\n",
    "df.loc[2:4]"
   ]
  },
  {
   "cell_type": "markdown",
   "id": "077f5513",
   "metadata": {},
   "source": [
    "#### Using both row and column labels"
   ]
  },
  {
   "cell_type": "code",
   "execution_count": 6,
   "id": "54e5ae56",
   "metadata": {},
   "outputs": [
    {
     "data": {
      "text/html": [
       "<div>\n",
       "<style scoped>\n",
       "    .dataframe tbody tr th:only-of-type {\n",
       "        vertical-align: middle;\n",
       "    }\n",
       "\n",
       "    .dataframe tbody tr th {\n",
       "        vertical-align: top;\n",
       "    }\n",
       "\n",
       "    .dataframe thead th {\n",
       "        text-align: right;\n",
       "    }\n",
       "</style>\n",
       "<table border=\"1\" class=\"dataframe\">\n",
       "  <thead>\n",
       "    <tr style=\"text-align: right;\">\n",
       "      <th></th>\n",
       "      <th>digits</th>\n",
       "      <th>spanish</th>\n",
       "    </tr>\n",
       "  </thead>\n",
       "  <tbody>\n",
       "    <tr>\n",
       "      <th>0</th>\n",
       "      <td>1</td>\n",
       "      <td>uno</td>\n",
       "    </tr>\n",
       "    <tr>\n",
       "      <th>2</th>\n",
       "      <td>3</td>\n",
       "      <td>tres</td>\n",
       "    </tr>\n",
       "    <tr>\n",
       "      <th>4</th>\n",
       "      <td>5</td>\n",
       "      <td>cinco</td>\n",
       "    </tr>\n",
       "  </tbody>\n",
       "</table>\n",
       "</div>"
      ],
      "text/plain": [
       "   digits spanish\n",
       "0       1     uno\n",
       "2       3    tres\n",
       "4       5   cinco"
      ]
     },
     "execution_count": 6,
     "metadata": {},
     "output_type": "execute_result"
    }
   ],
   "source": [
    "# Row label is boolean selector for the Row Index i.e. for rows 1,3 and 5\n",
    "# Column label is a boolean selector for the Column Index i.e. for columns 1 and 3\n",
    "# Note that the selector lists have the same size as that of the Row Index and \n",
    "# the Column Index of the DataFrame respectively\n",
    "\n",
    "df.loc[[True, False, True, False, True],[True, False, True, False]]"
   ]
  },
  {
   "cell_type": "code",
   "execution_count": 7,
   "id": "438f0eb1",
   "metadata": {},
   "outputs": [
    {
     "data": {
      "text/plain": [
       "3"
      ]
     },
     "execution_count": 7,
     "metadata": {},
     "output_type": "execute_result"
    }
   ],
   "source": [
    "# Row label is a single row index value\n",
    "# Column label is a single column value\n",
    "# This locates the single element defined by the row and the column - hence returns a scalar value\n",
    "\n",
    "df.loc[2,'digits']"
   ]
  },
  {
   "cell_type": "code",
   "execution_count": 8,
   "id": "a9d01b43",
   "metadata": {},
   "outputs": [
    {
     "data": {
      "text/plain": [
       "2    3\n",
       "3    4\n",
       "Name: digits, dtype: int64"
      ]
     },
     "execution_count": 8,
     "metadata": {},
     "output_type": "execute_result"
    }
   ],
   "source": [
    "# Row label is a slice object of type start:end for the row index.\n",
    "# Column label is a single column value\n",
    "# Returns a Series with the selected row indexes and the selected column\n",
    "\n",
    "df.loc[2:3, 'digits']"
   ]
  },
  {
   "cell_type": "code",
   "execution_count": 9,
   "id": "9b4944a3",
   "metadata": {},
   "outputs": [
    {
     "data": {
      "text/html": [
       "<div>\n",
       "<style scoped>\n",
       "    .dataframe tbody tr th:only-of-type {\n",
       "        vertical-align: middle;\n",
       "    }\n",
       "\n",
       "    .dataframe tbody tr th {\n",
       "        vertical-align: top;\n",
       "    }\n",
       "\n",
       "    .dataframe thead th {\n",
       "        text-align: right;\n",
       "    }\n",
       "</style>\n",
       "<table border=\"1\" class=\"dataframe\">\n",
       "  <thead>\n",
       "    <tr style=\"text-align: right;\">\n",
       "      <th></th>\n",
       "      <th>digits</th>\n",
       "      <th>english</th>\n",
       "    </tr>\n",
       "  </thead>\n",
       "  <tbody>\n",
       "    <tr>\n",
       "      <th>2</th>\n",
       "      <td>3</td>\n",
       "      <td>three</td>\n",
       "    </tr>\n",
       "    <tr>\n",
       "      <th>3</th>\n",
       "      <td>4</td>\n",
       "      <td>four</td>\n",
       "    </tr>\n",
       "  </tbody>\n",
       "</table>\n",
       "</div>"
      ],
      "text/plain": [
       "   digits english\n",
       "2       3   three\n",
       "3       4    four"
      ]
     },
     "execution_count": 9,
     "metadata": {},
     "output_type": "execute_result"
    }
   ],
   "source": [
    "# Row label is a slice object of type start:end for the row index.\n",
    "# Column label is a subset of the Columns of the DataFrame (subset of the column index).\n",
    "# Returns a DataFrame with the selected row indexes and the selected columns\n",
    "\n",
    "df.loc[2:3, ['digits','english']]"
   ]
  },
  {
   "cell_type": "code",
   "execution_count": 10,
   "id": "4ec98128",
   "metadata": {},
   "outputs": [
    {
     "data": {
      "text/html": [
       "<div>\n",
       "<style scoped>\n",
       "    .dataframe tbody tr th:only-of-type {\n",
       "        vertical-align: middle;\n",
       "    }\n",
       "\n",
       "    .dataframe tbody tr th {\n",
       "        vertical-align: top;\n",
       "    }\n",
       "\n",
       "    .dataframe thead th {\n",
       "        text-align: right;\n",
       "    }\n",
       "</style>\n",
       "<table border=\"1\" class=\"dataframe\">\n",
       "  <thead>\n",
       "    <tr style=\"text-align: right;\">\n",
       "      <th></th>\n",
       "      <th>digits</th>\n",
       "      <th>english</th>\n",
       "      <th>spanish</th>\n",
       "    </tr>\n",
       "  </thead>\n",
       "  <tbody>\n",
       "    <tr>\n",
       "      <th>2</th>\n",
       "      <td>3</td>\n",
       "      <td>three</td>\n",
       "      <td>tres</td>\n",
       "    </tr>\n",
       "    <tr>\n",
       "      <th>3</th>\n",
       "      <td>4</td>\n",
       "      <td>four</td>\n",
       "      <td>cuatro</td>\n",
       "    </tr>\n",
       "  </tbody>\n",
       "</table>\n",
       "</div>"
      ],
      "text/plain": [
       "   digits english spanish\n",
       "2       3   three    tres\n",
       "3       4    four  cuatro"
      ]
     },
     "execution_count": 10,
     "metadata": {},
     "output_type": "execute_result"
    }
   ],
   "source": [
    "# Row label is a slice object of type start:end for the row index.\n",
    "# Column label is a slice object of type start:end for the column index.\n",
    "# Returns a DataFrame with the selected row indexes (rows 2 to 3) and \n",
    "# the selected columns (columns digits to spanish)\n",
    "\n",
    "df.loc[2:3, 'digits':'spanish']"
   ]
  },
  {
   "cell_type": "code",
   "execution_count": 11,
   "id": "e94555dc",
   "metadata": {},
   "outputs": [
    {
     "data": {
      "text/html": [
       "<div>\n",
       "<style scoped>\n",
       "    .dataframe tbody tr th:only-of-type {\n",
       "        vertical-align: middle;\n",
       "    }\n",
       "\n",
       "    .dataframe tbody tr th {\n",
       "        vertical-align: top;\n",
       "    }\n",
       "\n",
       "    .dataframe thead th {\n",
       "        text-align: right;\n",
       "    }\n",
       "</style>\n",
       "<table border=\"1\" class=\"dataframe\">\n",
       "  <thead>\n",
       "    <tr style=\"text-align: right;\">\n",
       "      <th></th>\n",
       "      <th>digits</th>\n",
       "      <th>english</th>\n",
       "      <th>spanish</th>\n",
       "      <th>french</th>\n",
       "    </tr>\n",
       "  </thead>\n",
       "  <tbody>\n",
       "    <tr>\n",
       "      <th>0</th>\n",
       "      <td>1</td>\n",
       "      <td>one</td>\n",
       "      <td>uno</td>\n",
       "      <td>un</td>\n",
       "    </tr>\n",
       "    <tr>\n",
       "      <th>2</th>\n",
       "      <td>3</td>\n",
       "      <td>three</td>\n",
       "      <td>tres</td>\n",
       "      <td>trois</td>\n",
       "    </tr>\n",
       "    <tr>\n",
       "      <th>4</th>\n",
       "      <td>5</td>\n",
       "      <td>five</td>\n",
       "      <td>cinco</td>\n",
       "      <td>cinq</td>\n",
       "    </tr>\n",
       "  </tbody>\n",
       "</table>\n",
       "</div>"
      ],
      "text/plain": [
       "   digits english spanish french\n",
       "0       1     one     uno     un\n",
       "2       3   three    tres  trois\n",
       "4       5    five   cinco   cinq"
      ]
     },
     "execution_count": 11,
     "metadata": {},
     "output_type": "execute_result"
    }
   ],
   "source": [
    "# Row labels are boolean selectors based on mod 2 function that generates the same selector list mentioned above\n",
    "\n",
    "df.loc[df.digits % 2 == 1]"
   ]
  },
  {
   "cell_type": "code",
   "execution_count": 12,
   "id": "af212454",
   "metadata": {},
   "outputs": [
    {
     "data": {
      "text/html": [
       "<div>\n",
       "<style scoped>\n",
       "    .dataframe tbody tr th:only-of-type {\n",
       "        vertical-align: middle;\n",
       "    }\n",
       "\n",
       "    .dataframe tbody tr th {\n",
       "        vertical-align: top;\n",
       "    }\n",
       "\n",
       "    .dataframe thead th {\n",
       "        text-align: right;\n",
       "    }\n",
       "</style>\n",
       "<table border=\"1\" class=\"dataframe\">\n",
       "  <thead>\n",
       "    <tr style=\"text-align: right;\">\n",
       "      <th></th>\n",
       "      <th>english</th>\n",
       "    </tr>\n",
       "  </thead>\n",
       "  <tbody>\n",
       "    <tr>\n",
       "      <th>0</th>\n",
       "      <td>one</td>\n",
       "    </tr>\n",
       "    <tr>\n",
       "      <th>2</th>\n",
       "      <td>three</td>\n",
       "    </tr>\n",
       "    <tr>\n",
       "      <th>4</th>\n",
       "      <td>five</td>\n",
       "    </tr>\n",
       "  </tbody>\n",
       "</table>\n",
       "</div>"
      ],
      "text/plain": [
       "  english\n",
       "0     one\n",
       "2   three\n",
       "4    five"
      ]
     },
     "execution_count": 12,
     "metadata": {},
     "output_type": "execute_result"
    }
   ],
   "source": [
    "# Row labels are boolean selectors based on mod 2 function that generates the same selector list mentioned above\n",
    "# Column labels are boolean selectors based on column name starting letter criteria.\n",
    "\n",
    "df.loc[df.digits % 2 == 1 , df.columns.str.startswith('e')]"
   ]
  }
 ],
 "metadata": {
  "kernelspec": {
   "display_name": "venv",
   "language": "python",
   "name": "venv"
  },
  "language_info": {
   "codemirror_mode": {
    "name": "ipython",
    "version": 3
   },
   "file_extension": ".py",
   "mimetype": "text/x-python",
   "name": "python",
   "nbconvert_exporter": "python",
   "pygments_lexer": "ipython3",
   "version": "3.9.1"
  }
 },
 "nbformat": 4,
 "nbformat_minor": 5
}
