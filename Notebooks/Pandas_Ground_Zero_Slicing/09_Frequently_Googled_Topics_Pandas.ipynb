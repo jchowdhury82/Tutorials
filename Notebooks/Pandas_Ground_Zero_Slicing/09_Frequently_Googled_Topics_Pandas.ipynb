{
 "cells": [
  {
   "cell_type": "code",
   "execution_count": 1,
   "id": "c8c52f05",
   "metadata": {},
   "outputs": [],
   "source": [
    "import pandas as pd\n",
    "import numpy as np"
   ]
  },
  {
   "cell_type": "code",
   "execution_count": 2,
   "id": "66290409",
   "metadata": {},
   "outputs": [],
   "source": [
    "df = pd.read_csv('../Data/HRData.csv')"
   ]
  },
  {
   "cell_type": "code",
   "execution_count": 3,
   "id": "840b3293",
   "metadata": {},
   "outputs": [
    {
     "data": {
      "text/plain": [
       "[RangeIndex(start=0, stop=311, step=1),\n",
       " Index(['Employee_Name', 'EmpID', 'MarriedID', 'MaritalStatusID', 'GenderID',\n",
       "        'EmpStatusID', 'DeptID', 'PerfScoreID', 'FromDiversityJobFairID',\n",
       "        'Salary', 'Termd', 'PositionID', 'Position', 'State', 'Zip', 'DOB',\n",
       "        'Sex', 'MaritalDesc', 'CitizenDesc', 'HispanicLatino', 'RaceDesc',\n",
       "        'DateofHire', 'DateofTermination', 'TermReason', 'EmploymentStatus',\n",
       "        'Department', 'ManagerName', 'ManagerID', 'RecruitmentSource',\n",
       "        'PerformanceScore', 'EngagementSurvey', 'EmpSatisfaction',\n",
       "        'SpecialProjectsCount', 'LastPerformanceReview_Date', 'DaysLateLast30',\n",
       "        'Absences'],\n",
       "       dtype='object')]"
      ]
     },
     "execution_count": 3,
     "metadata": {},
     "output_type": "execute_result"
    }
   ],
   "source": [
    "df.axes"
   ]
  },
  {
   "cell_type": "code",
   "execution_count": 4,
   "id": "36bad3b4",
   "metadata": {},
   "outputs": [
    {
     "data": {
      "text/plain": [
       "(311, 36)"
      ]
     },
     "execution_count": 4,
     "metadata": {},
     "output_type": "execute_result"
    }
   ],
   "source": [
    "df.shape"
   ]
  },
  {
   "cell_type": "code",
   "execution_count": null,
   "id": "fc210327",
   "metadata": {},
   "outputs": [],
   "source": []
  },
  {
   "cell_type": "markdown",
   "id": "07a46784",
   "metadata": {},
   "source": [
    "### Basic Counting, Resetting Index"
   ]
  },
  {
   "cell_type": "code",
   "execution_count": 5,
   "id": "e7e379ef",
   "metadata": {},
   "outputs": [
    {
     "data": {
      "text/plain": [
       "Indeed                     87\n",
       "LinkedIn                   76\n",
       "Google Search              49\n",
       "Employee Referral          31\n",
       "Diversity Job Fair         29\n",
       "CareerBuilder              23\n",
       "Website                    13\n",
       "Other                       2\n",
       "On-line Web application     1\n",
       "Name: RecruitmentSource, dtype: int64"
      ]
     },
     "execution_count": 5,
     "metadata": {},
     "output_type": "execute_result"
    }
   ],
   "source": [
    "# Find the top recruitment sources of the company\n",
    "df['RecruitmentSource'].value_counts()"
   ]
  },
  {
   "cell_type": "code",
   "execution_count": 6,
   "id": "dba49a2f",
   "metadata": {},
   "outputs": [
    {
     "data": {
      "text/html": [
       "<div>\n",
       "<style scoped>\n",
       "    .dataframe tbody tr th:only-of-type {\n",
       "        vertical-align: middle;\n",
       "    }\n",
       "\n",
       "    .dataframe tbody tr th {\n",
       "        vertical-align: top;\n",
       "    }\n",
       "\n",
       "    .dataframe thead th {\n",
       "        text-align: right;\n",
       "    }\n",
       "</style>\n",
       "<table border=\"1\" class=\"dataframe\">\n",
       "  <thead>\n",
       "    <tr style=\"text-align: right;\">\n",
       "      <th></th>\n",
       "      <th>Recruitment_Source</th>\n",
       "      <th>Count_of_Employees</th>\n",
       "    </tr>\n",
       "  </thead>\n",
       "  <tbody>\n",
       "    <tr>\n",
       "      <th>0</th>\n",
       "      <td>Indeed</td>\n",
       "      <td>87</td>\n",
       "    </tr>\n",
       "    <tr>\n",
       "      <th>1</th>\n",
       "      <td>LinkedIn</td>\n",
       "      <td>76</td>\n",
       "    </tr>\n",
       "    <tr>\n",
       "      <th>2</th>\n",
       "      <td>Google Search</td>\n",
       "      <td>49</td>\n",
       "    </tr>\n",
       "    <tr>\n",
       "      <th>3</th>\n",
       "      <td>Employee Referral</td>\n",
       "      <td>31</td>\n",
       "    </tr>\n",
       "    <tr>\n",
       "      <th>4</th>\n",
       "      <td>Diversity Job Fair</td>\n",
       "      <td>29</td>\n",
       "    </tr>\n",
       "    <tr>\n",
       "      <th>5</th>\n",
       "      <td>CareerBuilder</td>\n",
       "      <td>23</td>\n",
       "    </tr>\n",
       "    <tr>\n",
       "      <th>6</th>\n",
       "      <td>Website</td>\n",
       "      <td>13</td>\n",
       "    </tr>\n",
       "    <tr>\n",
       "      <th>7</th>\n",
       "      <td>Other</td>\n",
       "      <td>2</td>\n",
       "    </tr>\n",
       "    <tr>\n",
       "      <th>8</th>\n",
       "      <td>On-line Web application</td>\n",
       "      <td>1</td>\n",
       "    </tr>\n",
       "  </tbody>\n",
       "</table>\n",
       "</div>"
      ],
      "text/plain": [
       "        Recruitment_Source  Count_of_Employees\n",
       "0                   Indeed                  87\n",
       "1                 LinkedIn                  76\n",
       "2            Google Search                  49\n",
       "3        Employee Referral                  31\n",
       "4       Diversity Job Fair                  29\n",
       "5            CareerBuilder                  23\n",
       "6                  Website                  13\n",
       "7                    Other                   2\n",
       "8  On-line Web application                   1"
      ]
     },
     "execution_count": 6,
     "metadata": {},
     "output_type": "execute_result"
    }
   ],
   "source": [
    "# Get the above output as a DataFrame with columns = 'Recruitment_Source' and 'Count_of_Employees'\n",
    "# The above data is a Series, so we need to rename the Series Index to 'Recruitment_Source' and then \n",
    "# reset index to generate a new column and name the original series column as Count_of_Employees\n",
    "df['RecruitmentSource'].value_counts().rename_axis('Recruitment_Source').reset_index(name = 'Count_of_Employees')"
   ]
  },
  {
   "cell_type": "markdown",
   "id": "1439c22e",
   "metadata": {},
   "source": [
    "### Counting missing values"
   ]
  },
  {
   "cell_type": "code",
   "execution_count": 7,
   "id": "349f880f",
   "metadata": {},
   "outputs": [
    {
     "data": {
      "text/plain": [
       "Index(['DateofTermination', 'ManagerID'], dtype='object')"
      ]
     },
     "execution_count": 7,
     "metadata": {},
     "output_type": "execute_result"
    }
   ],
   "source": [
    "# Which columns have a missing value\n",
    "df.columns[df.isnull().any(axis = 0)]"
   ]
  },
  {
   "cell_type": "code",
   "execution_count": 8,
   "id": "8d7da708",
   "metadata": {},
   "outputs": [
    {
     "data": {
      "text/plain": [
       "DateofTermination    207\n",
       "ManagerID              8\n",
       "dtype: int64"
      ]
     },
     "execution_count": 8,
     "metadata": {},
     "output_type": "execute_result"
    }
   ],
   "source": [
    "# Number missing values in these columns\n",
    "null_columns = df.columns[df.isnull().any(axis = 0)]\n",
    "df.loc[:,null_columns].isnull().sum()"
   ]
  },
  {
   "cell_type": "code",
   "execution_count": 9,
   "id": "8ec5a8b9",
   "metadata": {},
   "outputs": [
    {
     "data": {
      "text/plain": [
       "DateofTermination    66.559486\n",
       "ManagerID             2.572347\n",
       "dtype: float64"
      ]
     },
     "execution_count": 9,
     "metadata": {},
     "output_type": "execute_result"
    }
   ],
   "source": [
    "# % of missing values in these columns\n",
    "df.loc[:,null_columns].isnull().sum() * 100 / len(df)"
   ]
  },
  {
   "cell_type": "code",
   "execution_count": 10,
   "id": "e7996b42",
   "metadata": {},
   "outputs": [
    {
     "data": {
      "text/plain": [
       "207"
      ]
     },
     "execution_count": 10,
     "metadata": {},
     "output_type": "execute_result"
    }
   ],
   "source": [
    "# How many rows have nulls\n",
    "df.isnull().any(axis = 1).sum()"
   ]
  },
  {
   "cell_type": "code",
   "execution_count": 11,
   "id": "592d120f",
   "metadata": {},
   "outputs": [
    {
     "data": {
      "text/html": [
       "<div>\n",
       "<style scoped>\n",
       "    .dataframe tbody tr th:only-of-type {\n",
       "        vertical-align: middle;\n",
       "    }\n",
       "\n",
       "    .dataframe tbody tr th {\n",
       "        vertical-align: top;\n",
       "    }\n",
       "\n",
       "    .dataframe thead th {\n",
       "        text-align: right;\n",
       "    }\n",
       "</style>\n",
       "<table border=\"1\" class=\"dataframe\">\n",
       "  <thead>\n",
       "    <tr style=\"text-align: right;\">\n",
       "      <th></th>\n",
       "      <th>DateofTermination</th>\n",
       "      <th>ManagerID</th>\n",
       "    </tr>\n",
       "  </thead>\n",
       "  <tbody>\n",
       "    <tr>\n",
       "      <th>0</th>\n",
       "      <td>NaN</td>\n",
       "      <td>22.0</td>\n",
       "    </tr>\n",
       "    <tr>\n",
       "      <th>3</th>\n",
       "      <td>NaN</td>\n",
       "      <td>16.0</td>\n",
       "    </tr>\n",
       "    <tr>\n",
       "      <th>5</th>\n",
       "      <td>NaN</td>\n",
       "      <td>11.0</td>\n",
       "    </tr>\n",
       "    <tr>\n",
       "      <th>6</th>\n",
       "      <td>NaN</td>\n",
       "      <td>10.0</td>\n",
       "    </tr>\n",
       "    <tr>\n",
       "      <th>7</th>\n",
       "      <td>NaN</td>\n",
       "      <td>19.0</td>\n",
       "    </tr>\n",
       "    <tr>\n",
       "      <th>...</th>\n",
       "      <td>...</td>\n",
       "      <td>...</td>\n",
       "    </tr>\n",
       "    <tr>\n",
       "      <th>305</th>\n",
       "      <td>NaN</td>\n",
       "      <td>14.0</td>\n",
       "    </tr>\n",
       "    <tr>\n",
       "      <th>306</th>\n",
       "      <td>NaN</td>\n",
       "      <td>20.0</td>\n",
       "    </tr>\n",
       "    <tr>\n",
       "      <th>308</th>\n",
       "      <td>NaN</td>\n",
       "      <td>2.0</td>\n",
       "    </tr>\n",
       "    <tr>\n",
       "      <th>309</th>\n",
       "      <td>NaN</td>\n",
       "      <td>4.0</td>\n",
       "    </tr>\n",
       "    <tr>\n",
       "      <th>310</th>\n",
       "      <td>NaN</td>\n",
       "      <td>14.0</td>\n",
       "    </tr>\n",
       "  </tbody>\n",
       "</table>\n",
       "<p>207 rows × 2 columns</p>\n",
       "</div>"
      ],
      "text/plain": [
       "    DateofTermination  ManagerID\n",
       "0                 NaN       22.0\n",
       "3                 NaN       16.0\n",
       "5                 NaN       11.0\n",
       "6                 NaN       10.0\n",
       "7                 NaN       19.0\n",
       "..                ...        ...\n",
       "305               NaN       14.0\n",
       "306               NaN       20.0\n",
       "308               NaN        2.0\n",
       "309               NaN        4.0\n",
       "310               NaN       14.0\n",
       "\n",
       "[207 rows x 2 columns]"
      ]
     },
     "execution_count": 11,
     "metadata": {},
     "output_type": "execute_result"
    }
   ],
   "source": [
    "# Print those rows and columns\n",
    "null_rows = df.isnull().any(axis = 1)\n",
    "null_cols = df.isnull().any(axis = 0)\n",
    "\n",
    "df.loc[null_rows, null_cols]"
   ]
  },
  {
   "cell_type": "markdown",
   "id": "2a82e76f",
   "metadata": {},
   "source": [
    "### Compound filters - use of '&' in filtering"
   ]
  },
  {
   "cell_type": "code",
   "execution_count": 12,
   "id": "51de33d8",
   "metadata": {},
   "outputs": [
    {
     "data": {
      "text/html": [
       "<div>\n",
       "<style scoped>\n",
       "    .dataframe tbody tr th:only-of-type {\n",
       "        vertical-align: middle;\n",
       "    }\n",
       "\n",
       "    .dataframe tbody tr th {\n",
       "        vertical-align: top;\n",
       "    }\n",
       "\n",
       "    .dataframe thead th {\n",
       "        text-align: right;\n",
       "    }\n",
       "</style>\n",
       "<table border=\"1\" class=\"dataframe\">\n",
       "  <thead>\n",
       "    <tr style=\"text-align: right;\">\n",
       "      <th></th>\n",
       "      <th>Employee_Name</th>\n",
       "      <th>RecruitmentSource</th>\n",
       "      <th>Salary</th>\n",
       "    </tr>\n",
       "  </thead>\n",
       "  <tbody>\n",
       "    <tr>\n",
       "      <th>0</th>\n",
       "      <td>Adinolfi, Wilson  K</td>\n",
       "      <td>LinkedIn</td>\n",
       "      <td>62506</td>\n",
       "    </tr>\n",
       "    <tr>\n",
       "      <th>2</th>\n",
       "      <td>Akinkuolie, Sarah</td>\n",
       "      <td>LinkedIn</td>\n",
       "      <td>64955</td>\n",
       "    </tr>\n",
       "    <tr>\n",
       "      <th>3</th>\n",
       "      <td>Alagbe,Trina</td>\n",
       "      <td>Indeed</td>\n",
       "      <td>64991</td>\n",
       "    </tr>\n",
       "    <tr>\n",
       "      <th>5</th>\n",
       "      <td>Anderson, Linda</td>\n",
       "      <td>LinkedIn</td>\n",
       "      <td>57568</td>\n",
       "    </tr>\n",
       "    <tr>\n",
       "      <th>6</th>\n",
       "      <td>Andreola, Colby</td>\n",
       "      <td>LinkedIn</td>\n",
       "      <td>95660</td>\n",
       "    </tr>\n",
       "    <tr>\n",
       "      <th>...</th>\n",
       "      <td>...</td>\n",
       "      <td>...</td>\n",
       "      <td>...</td>\n",
       "    </tr>\n",
       "    <tr>\n",
       "      <th>300</th>\n",
       "      <td>Whittier, Scott</td>\n",
       "      <td>LinkedIn</td>\n",
       "      <td>58371</td>\n",
       "    </tr>\n",
       "    <tr>\n",
       "      <th>304</th>\n",
       "      <td>Winthrop, Jordan</td>\n",
       "      <td>LinkedIn</td>\n",
       "      <td>70507</td>\n",
       "    </tr>\n",
       "    <tr>\n",
       "      <th>305</th>\n",
       "      <td>Wolk, Hang  T</td>\n",
       "      <td>LinkedIn</td>\n",
       "      <td>60446</td>\n",
       "    </tr>\n",
       "    <tr>\n",
       "      <th>306</th>\n",
       "      <td>Woodson, Jason</td>\n",
       "      <td>LinkedIn</td>\n",
       "      <td>65893</td>\n",
       "    </tr>\n",
       "    <tr>\n",
       "      <th>310</th>\n",
       "      <td>Zima, Colleen</td>\n",
       "      <td>LinkedIn</td>\n",
       "      <td>45046</td>\n",
       "    </tr>\n",
       "  </tbody>\n",
       "</table>\n",
       "<p>149 rows × 3 columns</p>\n",
       "</div>"
      ],
      "text/plain": [
       "           Employee_Name RecruitmentSource  Salary\n",
       "0    Adinolfi, Wilson  K          LinkedIn   62506\n",
       "2      Akinkuolie, Sarah          LinkedIn   64955\n",
       "3           Alagbe,Trina            Indeed   64991\n",
       "5      Anderson, Linda            LinkedIn   57568\n",
       "6        Andreola, Colby          LinkedIn   95660\n",
       "..                   ...               ...     ...\n",
       "300      Whittier, Scott          LinkedIn   58371\n",
       "304   Winthrop, Jordan            LinkedIn   70507\n",
       "305        Wolk, Hang  T          LinkedIn   60446\n",
       "306       Woodson, Jason          LinkedIn   65893\n",
       "310        Zima, Colleen          LinkedIn   45046\n",
       "\n",
       "[149 rows x 3 columns]"
      ]
     },
     "execution_count": 12,
     "metadata": {},
     "output_type": "execute_result"
    }
   ],
   "source": [
    "# Find employees hired through LinkedIn and Indeed who get a salary < 100000\n",
    "selector = (df['RecruitmentSource'].isin(['LinkedIn','Indeed']) ) & (df['Salary'] < 100000)\n",
    "df.loc[selector,['Employee_Name','RecruitmentSource','Salary']]"
   ]
  },
  {
   "cell_type": "markdown",
   "id": "ed2b52ff",
   "metadata": {},
   "source": [
    "### Negation of filters"
   ]
  },
  {
   "cell_type": "code",
   "execution_count": 13,
   "id": "62c29451",
   "metadata": {},
   "outputs": [
    {
     "data": {
      "text/html": [
       "<div>\n",
       "<style scoped>\n",
       "    .dataframe tbody tr th:only-of-type {\n",
       "        vertical-align: middle;\n",
       "    }\n",
       "\n",
       "    .dataframe tbody tr th {\n",
       "        vertical-align: top;\n",
       "    }\n",
       "\n",
       "    .dataframe thead th {\n",
       "        text-align: right;\n",
       "    }\n",
       "</style>\n",
       "<table border=\"1\" class=\"dataframe\">\n",
       "  <thead>\n",
       "    <tr style=\"text-align: right;\">\n",
       "      <th></th>\n",
       "      <th>Employee_Name</th>\n",
       "      <th>DateofTermination</th>\n",
       "      <th>Salary</th>\n",
       "    </tr>\n",
       "  </thead>\n",
       "  <tbody>\n",
       "    <tr>\n",
       "      <th>1</th>\n",
       "      <td>Ait Sidi, Karthikeyan</td>\n",
       "      <td>6/16/2016</td>\n",
       "      <td>104437</td>\n",
       "    </tr>\n",
       "    <tr>\n",
       "      <th>18</th>\n",
       "      <td>Becker, Renee</td>\n",
       "      <td>9/12/2015</td>\n",
       "      <td>110000</td>\n",
       "    </tr>\n",
       "    <tr>\n",
       "      <th>25</th>\n",
       "      <td>Booth, Frank</td>\n",
       "      <td>2/19/2016</td>\n",
       "      <td>103613</td>\n",
       "    </tr>\n",
       "    <tr>\n",
       "      <th>108</th>\n",
       "      <td>Goble, Taisha</td>\n",
       "      <td>3/15/2015</td>\n",
       "      <td>114800</td>\n",
       "    </tr>\n",
       "    <tr>\n",
       "      <th>212</th>\n",
       "      <td>Patronick, Lucas</td>\n",
       "      <td>9/7/2015</td>\n",
       "      <td>108987</td>\n",
       "    </tr>\n",
       "    <tr>\n",
       "      <th>239</th>\n",
       "      <td>Roehrich, Bianca</td>\n",
       "      <td>11/10/2018</td>\n",
       "      <td>120000</td>\n",
       "    </tr>\n",
       "    <tr>\n",
       "      <th>244</th>\n",
       "      <td>Ruiz, Ricardo</td>\n",
       "      <td>11/4/2015</td>\n",
       "      <td>148999</td>\n",
       "    </tr>\n",
       "    <tr>\n",
       "      <th>285</th>\n",
       "      <td>True, Edward</td>\n",
       "      <td>4/15/2018</td>\n",
       "      <td>100416</td>\n",
       "    </tr>\n",
       "    <tr>\n",
       "      <th>292</th>\n",
       "      <td>Voldemort, Lord</td>\n",
       "      <td>2/22/2017</td>\n",
       "      <td>113999</td>\n",
       "    </tr>\n",
       "  </tbody>\n",
       "</table>\n",
       "</div>"
      ],
      "text/plain": [
       "                Employee_Name DateofTermination  Salary\n",
       "1    Ait Sidi, Karthikeyan            6/16/2016  104437\n",
       "18              Becker, Renee         9/12/2015  110000\n",
       "25               Booth, Frank         2/19/2016  103613\n",
       "108             Goble, Taisha         3/15/2015  114800\n",
       "212          Patronick, Lucas          9/7/2015  108987\n",
       "239          Roehrich, Bianca        11/10/2018  120000\n",
       "244             Ruiz, Ricardo         11/4/2015  148999\n",
       "285              True, Edward         4/15/2018  100416\n",
       "292           Voldemort, Lord         2/22/2017  113999"
      ]
     },
     "execution_count": 13,
     "metadata": {},
     "output_type": "execute_result"
    }
   ],
   "source": [
    "# Find employees who were terminated with salary > 100,000\n",
    "row_selector = (~df['DateofTermination'].isnull()) & (df['Salary'] > 100000)\n",
    "column_selector = ['Employee_Name','DateofTermination','Salary']\n",
    "\n",
    "df.loc [row_selector,column_selector]"
   ]
  },
  {
   "cell_type": "markdown",
   "id": "d2967d9b",
   "metadata": {},
   "source": [
    "### Use of dropna()"
   ]
  },
  {
   "cell_type": "code",
   "execution_count": 14,
   "id": "2327f39f",
   "metadata": {},
   "outputs": [
    {
     "data": {
      "text/html": [
       "<div>\n",
       "<style scoped>\n",
       "    .dataframe tbody tr th:only-of-type {\n",
       "        vertical-align: middle;\n",
       "    }\n",
       "\n",
       "    .dataframe tbody tr th {\n",
       "        vertical-align: top;\n",
       "    }\n",
       "\n",
       "    .dataframe thead th {\n",
       "        text-align: right;\n",
       "    }\n",
       "</style>\n",
       "<table border=\"1\" class=\"dataframe\">\n",
       "  <thead>\n",
       "    <tr style=\"text-align: right;\">\n",
       "      <th></th>\n",
       "      <th>Employee_Name</th>\n",
       "      <th>DateofTermination</th>\n",
       "      <th>Salary</th>\n",
       "    </tr>\n",
       "  </thead>\n",
       "  <tbody>\n",
       "    <tr>\n",
       "      <th>1</th>\n",
       "      <td>Ait Sidi, Karthikeyan</td>\n",
       "      <td>6/16/2016</td>\n",
       "      <td>104437</td>\n",
       "    </tr>\n",
       "    <tr>\n",
       "      <th>18</th>\n",
       "      <td>Becker, Renee</td>\n",
       "      <td>9/12/2015</td>\n",
       "      <td>110000</td>\n",
       "    </tr>\n",
       "    <tr>\n",
       "      <th>25</th>\n",
       "      <td>Booth, Frank</td>\n",
       "      <td>2/19/2016</td>\n",
       "      <td>103613</td>\n",
       "    </tr>\n",
       "    <tr>\n",
       "      <th>108</th>\n",
       "      <td>Goble, Taisha</td>\n",
       "      <td>3/15/2015</td>\n",
       "      <td>114800</td>\n",
       "    </tr>\n",
       "    <tr>\n",
       "      <th>212</th>\n",
       "      <td>Patronick, Lucas</td>\n",
       "      <td>9/7/2015</td>\n",
       "      <td>108987</td>\n",
       "    </tr>\n",
       "    <tr>\n",
       "      <th>239</th>\n",
       "      <td>Roehrich, Bianca</td>\n",
       "      <td>11/10/2018</td>\n",
       "      <td>120000</td>\n",
       "    </tr>\n",
       "    <tr>\n",
       "      <th>244</th>\n",
       "      <td>Ruiz, Ricardo</td>\n",
       "      <td>11/4/2015</td>\n",
       "      <td>148999</td>\n",
       "    </tr>\n",
       "    <tr>\n",
       "      <th>285</th>\n",
       "      <td>True, Edward</td>\n",
       "      <td>4/15/2018</td>\n",
       "      <td>100416</td>\n",
       "    </tr>\n",
       "    <tr>\n",
       "      <th>292</th>\n",
       "      <td>Voldemort, Lord</td>\n",
       "      <td>2/22/2017</td>\n",
       "      <td>113999</td>\n",
       "    </tr>\n",
       "  </tbody>\n",
       "</table>\n",
       "</div>"
      ],
      "text/plain": [
       "                Employee_Name DateofTermination  Salary\n",
       "1    Ait Sidi, Karthikeyan            6/16/2016  104437\n",
       "18              Becker, Renee         9/12/2015  110000\n",
       "25               Booth, Frank         2/19/2016  103613\n",
       "108             Goble, Taisha         3/15/2015  114800\n",
       "212          Patronick, Lucas          9/7/2015  108987\n",
       "239          Roehrich, Bianca        11/10/2018  120000\n",
       "244             Ruiz, Ricardo         11/4/2015  148999\n",
       "285              True, Edward         4/15/2018  100416\n",
       "292           Voldemort, Lord         2/22/2017  113999"
      ]
     },
     "execution_count": 14,
     "metadata": {},
     "output_type": "execute_result"
    }
   ],
   "source": [
    "# Alternate way using dropna\n",
    "df_term = df.dropna(subset = ['DateofTermination'])\n",
    "df_term[df_term['Salary'] > 100000][['Employee_Name','DateofTermination','Salary']]"
   ]
  },
  {
   "cell_type": "markdown",
   "id": "24d786f0",
   "metadata": {},
   "source": [
    "### Converting data types, fixing \"SettingWithCopyWarning\", recreating indexes &  plotting with TimeStamp Index"
   ]
  },
  {
   "cell_type": "code",
   "execution_count": 15,
   "id": "c118c646",
   "metadata": {},
   "outputs": [
    {
     "name": "stderr",
     "output_type": "stream",
     "text": [
      "/var/folders/9b/q8v9585s13j66btsb9qs3my80000gq/T/ipykernel_69642/1633238376.py:3: SettingWithCopyWarning: \n",
      "A value is trying to be set on a copy of a slice from a DataFrame.\n",
      "Try using .loc[row_indexer,col_indexer] = value instead\n",
      "\n",
      "See the caveats in the documentation: https://pandas.pydata.org/pandas-docs/stable/user_guide/indexing.html#returning-a-view-versus-a-copy\n",
      "  dt['DateofTermination'] = pd.to_datetime(dt['DateofTermination'],format= '%m/%d/%Y')\n"
     ]
    }
   ],
   "source": [
    "# Convert 'DateofTermination' to Timestamp type \n",
    "dt = df.dropna(subset = ['DateofTermination'])\n",
    "dt['DateofTermination'] = pd.to_datetime(dt['DateofTermination'],format= '%m/%d/%Y')\n",
    "\n",
    "# We get a SettingWithCopyWarning - Pandas thinks we are working with a \"view\" of the original df, which is dt\n",
    "# and then we are doing another indexing on this view dt to update something.\n",
    "# This may still work, but Pandas warns that this may lead to wrong results."
   ]
  },
  {
   "cell_type": "code",
   "execution_count": 16,
   "id": "cc4824c9",
   "metadata": {},
   "outputs": [
    {
     "data": {
      "text/plain": [
       "1   2016-06-16\n",
       "2   2012-09-24\n",
       "Name: DateofTermination, dtype: datetime64[ns]"
      ]
     },
     "execution_count": 16,
     "metadata": {},
     "output_type": "execute_result"
    }
   ],
   "source": [
    "dt = df.copy().dropna(subset = ['DateofTermination'])\n",
    "dt['DateofTermination'] = pd.to_datetime(dt['DateofTermination'],format= '%m/%d/%Y')\n",
    "dt['DateofTermination'].head(2)"
   ]
  },
  {
   "cell_type": "code",
   "execution_count": 17,
   "id": "021aa094",
   "metadata": {},
   "outputs": [
    {
     "data": {
      "text/html": [
       "<div>\n",
       "<style scoped>\n",
       "    .dataframe tbody tr th:only-of-type {\n",
       "        vertical-align: middle;\n",
       "    }\n",
       "\n",
       "    .dataframe tbody tr th {\n",
       "        vertical-align: top;\n",
       "    }\n",
       "\n",
       "    .dataframe thead th {\n",
       "        text-align: right;\n",
       "    }\n",
       "</style>\n",
       "<table border=\"1\" class=\"dataframe\">\n",
       "  <thead>\n",
       "    <tr style=\"text-align: right;\">\n",
       "      <th></th>\n",
       "      <th>Employee_Name</th>\n",
       "      <th>EmpID</th>\n",
       "      <th>MarriedID</th>\n",
       "      <th>MaritalStatusID</th>\n",
       "      <th>GenderID</th>\n",
       "      <th>EmpStatusID</th>\n",
       "      <th>DeptID</th>\n",
       "      <th>PerfScoreID</th>\n",
       "      <th>FromDiversityJobFairID</th>\n",
       "      <th>Salary</th>\n",
       "      <th>...</th>\n",
       "      <th>ManagerName</th>\n",
       "      <th>ManagerID</th>\n",
       "      <th>RecruitmentSource</th>\n",
       "      <th>PerformanceScore</th>\n",
       "      <th>EngagementSurvey</th>\n",
       "      <th>EmpSatisfaction</th>\n",
       "      <th>SpecialProjectsCount</th>\n",
       "      <th>LastPerformanceReview_Date</th>\n",
       "      <th>DaysLateLast30</th>\n",
       "      <th>Absences</th>\n",
       "    </tr>\n",
       "    <tr>\n",
       "      <th>DateofTermination</th>\n",
       "      <th></th>\n",
       "      <th></th>\n",
       "      <th></th>\n",
       "      <th></th>\n",
       "      <th></th>\n",
       "      <th></th>\n",
       "      <th></th>\n",
       "      <th></th>\n",
       "      <th></th>\n",
       "      <th></th>\n",
       "      <th></th>\n",
       "      <th></th>\n",
       "      <th></th>\n",
       "      <th></th>\n",
       "      <th></th>\n",
       "      <th></th>\n",
       "      <th></th>\n",
       "      <th></th>\n",
       "      <th></th>\n",
       "      <th></th>\n",
       "      <th></th>\n",
       "    </tr>\n",
       "  </thead>\n",
       "  <tbody>\n",
       "    <tr>\n",
       "      <th>2016-06-16</th>\n",
       "      <td>Ait Sidi, Karthikeyan</td>\n",
       "      <td>10084</td>\n",
       "      <td>1</td>\n",
       "      <td>1</td>\n",
       "      <td>1</td>\n",
       "      <td>5</td>\n",
       "      <td>3</td>\n",
       "      <td>3</td>\n",
       "      <td>0</td>\n",
       "      <td>104437</td>\n",
       "      <td>...</td>\n",
       "      <td>Simon Roup</td>\n",
       "      <td>4.0</td>\n",
       "      <td>Indeed</td>\n",
       "      <td>Fully Meets</td>\n",
       "      <td>4.96</td>\n",
       "      <td>3</td>\n",
       "      <td>6</td>\n",
       "      <td>2/24/2016</td>\n",
       "      <td>0</td>\n",
       "      <td>17</td>\n",
       "    </tr>\n",
       "    <tr>\n",
       "      <th>2012-09-24</th>\n",
       "      <td>Akinkuolie, Sarah</td>\n",
       "      <td>10196</td>\n",
       "      <td>1</td>\n",
       "      <td>1</td>\n",
       "      <td>0</td>\n",
       "      <td>5</td>\n",
       "      <td>5</td>\n",
       "      <td>3</td>\n",
       "      <td>0</td>\n",
       "      <td>64955</td>\n",
       "      <td>...</td>\n",
       "      <td>Kissy Sullivan</td>\n",
       "      <td>20.0</td>\n",
       "      <td>LinkedIn</td>\n",
       "      <td>Fully Meets</td>\n",
       "      <td>3.02</td>\n",
       "      <td>3</td>\n",
       "      <td>0</td>\n",
       "      <td>5/15/2012</td>\n",
       "      <td>0</td>\n",
       "      <td>3</td>\n",
       "    </tr>\n",
       "  </tbody>\n",
       "</table>\n",
       "<p>2 rows × 35 columns</p>\n",
       "</div>"
      ],
      "text/plain": [
       "                              Employee_Name  EmpID  MarriedID  \\\n",
       "DateofTermination                                               \n",
       "2016-06-16         Ait Sidi, Karthikeyan     10084          1   \n",
       "2012-09-24                Akinkuolie, Sarah  10196          1   \n",
       "\n",
       "                   MaritalStatusID  GenderID  EmpStatusID  DeptID  \\\n",
       "DateofTermination                                                   \n",
       "2016-06-16                       1         1            5       3   \n",
       "2012-09-24                       1         0            5       5   \n",
       "\n",
       "                   PerfScoreID  FromDiversityJobFairID  Salary  ...  \\\n",
       "DateofTermination                                               ...   \n",
       "2016-06-16                   3                       0  104437  ...   \n",
       "2012-09-24                   3                       0   64955  ...   \n",
       "\n",
       "                      ManagerName  ManagerID RecruitmentSource  \\\n",
       "DateofTermination                                                \n",
       "2016-06-16             Simon Roup        4.0            Indeed   \n",
       "2012-09-24         Kissy Sullivan       20.0          LinkedIn   \n",
       "\n",
       "                  PerformanceScore  EngagementSurvey EmpSatisfaction  \\\n",
       "DateofTermination                                                      \n",
       "2016-06-16             Fully Meets              4.96               3   \n",
       "2012-09-24             Fully Meets              3.02               3   \n",
       "\n",
       "                  SpecialProjectsCount LastPerformanceReview_Date  \\\n",
       "DateofTermination                                                   \n",
       "2016-06-16                           6                  2/24/2016   \n",
       "2012-09-24                           0                  5/15/2012   \n",
       "\n",
       "                  DaysLateLast30 Absences  \n",
       "DateofTermination                          \n",
       "2016-06-16                     0       17  \n",
       "2012-09-24                     0        3  \n",
       "\n",
       "[2 rows x 35 columns]"
      ]
     },
     "execution_count": 17,
     "metadata": {},
     "output_type": "execute_result"
    }
   ],
   "source": [
    "# Set the 'DateofTermination' as the dataslice's index to support time series analysis\n",
    "dt = dt.set_index('DateofTermination')\n",
    "dt.head(2)"
   ]
  },
  {
   "cell_type": "code",
   "execution_count": 18,
   "id": "e828856f",
   "metadata": {},
   "outputs": [
    {
     "data": {
      "text/plain": [
       "DateofTermination\n",
       "2010-08-31    1\n",
       "2010-09-30    0\n",
       "2010-10-31    0\n",
       "2010-11-30    0\n",
       "2010-12-31    0\n",
       "             ..\n",
       "2018-07-31    1\n",
       "2018-08-31    3\n",
       "2018-09-30    2\n",
       "2018-10-31    0\n",
       "2018-11-30    1\n",
       "Freq: M, Name: EmpID, Length: 100, dtype: int64"
      ]
     },
     "execution_count": 18,
     "metadata": {},
     "output_type": "execute_result"
    }
   ],
   "source": [
    "# Group the data based on the TimeStampIndex and find counts per month.\n",
    "dt.groupby(pd.Grouper(freq='1M'))['EmpID'].count()"
   ]
  },
  {
   "cell_type": "code",
   "execution_count": 19,
   "id": "b80709b9",
   "metadata": {},
   "outputs": [
    {
     "data": {
      "image/png": "[encoded data removed]",
      "text/plain": [
       "<Figure size 864x576 with 1 Axes>"
      ]
     },
     "metadata": {
      "needs_background": "light"
     },
     "output_type": "display_data"
    }
   ],
   "source": [
    "# Show a trend graph of the number of employees leaving per month\n",
    "dt.groupby(pd.Grouper(freq='1M'))['EmpID'].count().plot(\n",
    "                                                      figsize=(12, 8),\n",
    "                                                      title='Termination Month',\n",
    "                                                      ylabel='Number of terminated employees',\n",
    "                                                      grid=True\n",
    "                                                    ).autoscale(axis='both', tight=True)"
   ]
  },
  {
   "cell_type": "code",
   "execution_count": 20,
   "id": "7c85c167",
   "metadata": {},
   "outputs": [
    {
     "data": {
      "text/plain": [
       "Index(['Employee_Name', 'EmpID', 'MarriedID', 'MaritalStatusID', 'GenderID',\n",
       "       'EmpStatusID', 'DeptID', 'PerfScoreID', 'FromDiversityJobFairID',\n",
       "       'Salary', 'Termd', 'PositionID', 'Position', 'State', 'Zip', 'DOB',\n",
       "       'Sex', 'MaritalDesc', 'CitizenDesc', 'HispanicLatino', 'RaceDesc',\n",
       "       'DateofHire', 'DateofTermination', 'TermReason', 'EmploymentStatus',\n",
       "       'Department', 'ManagerName', 'ManagerID', 'RecruitmentSource',\n",
       "       'PerformanceScore', 'EngagementSurvey', 'EmpSatisfaction',\n",
       "       'SpecialProjectsCount', 'LastPerformanceReview_Date', 'DaysLateLast30',\n",
       "       'Absences'],\n",
       "      dtype='object')"
      ]
     },
     "execution_count": 20,
     "metadata": {},
     "output_type": "execute_result"
    }
   ],
   "source": [
    "df.columns"
   ]
  },
  {
   "cell_type": "markdown",
   "id": "ec89d978",
   "metadata": {},
   "source": [
    "### Grouping, Aggregating and Filtering"
   ]
  },
  {
   "cell_type": "code",
   "execution_count": 21,
   "id": "bb79c9f0",
   "metadata": {},
   "outputs": [
    {
     "data": {
      "text/plain": [
       "DeptID\n",
       "3     2\n",
       "4     1\n",
       "5    23\n",
       "6     5\n",
       "Name: PerfScoreID, dtype: int64"
      ]
     },
     "execution_count": 21,
     "metadata": {},
     "output_type": "execute_result"
    }
   ],
   "source": [
    "# How many Employees have a PerfScoreID < 2 for each Dept\n",
    "df[df['PerfScoreID'] <= 2].groupby('DeptID')['PerfScoreID'].count()"
   ]
  },
  {
   "cell_type": "code",
   "execution_count": 22,
   "id": "728fb3e4",
   "metadata": {},
   "outputs": [
    {
     "data": {
      "text/plain": [
       "0      2.980769\n",
       "1      3.060000\n",
       "2      2.980769\n",
       "3      2.980769\n",
       "4      2.980769\n",
       "         ...   \n",
       "306    2.980769\n",
       "307    2.980769\n",
       "308    3.060000\n",
       "309    3.060000\n",
       "310    2.980769\n",
       "Name: PerfScoreID, Length: 311, dtype: float64"
      ]
     },
     "execution_count": 22,
     "metadata": {},
     "output_type": "execute_result"
    }
   ],
   "source": [
    "# Find employees whose performance score is less than the mean performance score of the Dept\n",
    "# To do this, we can split this task into steps.\n",
    "\n",
    "# Step 1 - find mean scores of the Dept for each employee record. \n",
    "# The transform function returns a Series of same row count as the original dataframe - it does the aggregation\n",
    "# for each record. Regular groupby collapses the dataframe to only DeptID's in the indexes.\n",
    "\n",
    "mean_PerfScoreID = df.groupby('DeptID')['PerfScoreID'].transform(lambda grp: np.mean(grp))\n",
    "mean_PerfScoreID"
   ]
  },
  {
   "cell_type": "code",
   "execution_count": 23,
   "id": "f0c26d3a",
   "metadata": {},
   "outputs": [
    {
     "data": {
      "text/plain": [
       "0      False\n",
       "1       True\n",
       "2      False\n",
       "3      False\n",
       "4      False\n",
       "       ...  \n",
       "306    False\n",
       "307     True\n",
       "308    False\n",
       "309     True\n",
       "310    False\n",
       "Name: PerfScoreID, Length: 311, dtype: bool"
      ]
     },
     "execution_count": 23,
     "metadata": {},
     "output_type": "execute_result"
    }
   ],
   "source": [
    "# Step 2 - generate a selector function where the actual PerfScoreID of the employee is less than this mean\n",
    "# This works because the transform() had created a series with same Index values as the original df\n",
    "# Hence we can compare another column of the original df with this series\n",
    "row_selector = df['PerfScoreID'] < mean_PerfScoreID\n",
    "row_selector"
   ]
  },
  {
   "cell_type": "code",
   "execution_count": 24,
   "id": "1839552e",
   "metadata": {},
   "outputs": [
    {
     "data": {
      "text/html": [
       "<div>\n",
       "<style scoped>\n",
       "    .dataframe tbody tr th:only-of-type {\n",
       "        vertical-align: middle;\n",
       "    }\n",
       "\n",
       "    .dataframe tbody tr th {\n",
       "        vertical-align: top;\n",
       "    }\n",
       "\n",
       "    .dataframe thead th {\n",
       "        text-align: right;\n",
       "    }\n",
       "</style>\n",
       "<table border=\"1\" class=\"dataframe\">\n",
       "  <thead>\n",
       "    <tr style=\"text-align: right;\">\n",
       "      <th></th>\n",
       "      <th>Employee_Name</th>\n",
       "      <th>DeptID</th>\n",
       "      <th>PerfScoreID</th>\n",
       "    </tr>\n",
       "  </thead>\n",
       "  <tbody>\n",
       "    <tr>\n",
       "      <th>1</th>\n",
       "      <td>Ait Sidi, Karthikeyan</td>\n",
       "      <td>3</td>\n",
       "      <td>3</td>\n",
       "    </tr>\n",
       "    <tr>\n",
       "      <th>6</th>\n",
       "      <td>Andreola, Colby</td>\n",
       "      <td>4</td>\n",
       "      <td>3</td>\n",
       "    </tr>\n",
       "    <tr>\n",
       "      <th>9</th>\n",
       "      <td>Bacong, Alejandro</td>\n",
       "      <td>3</td>\n",
       "      <td>3</td>\n",
       "    </tr>\n",
       "    <tr>\n",
       "      <th>18</th>\n",
       "      <td>Becker, Renee</td>\n",
       "      <td>3</td>\n",
       "      <td>3</td>\n",
       "    </tr>\n",
       "    <tr>\n",
       "      <th>23</th>\n",
       "      <td>Blount, Dianna</td>\n",
       "      <td>5</td>\n",
       "      <td>2</td>\n",
       "    </tr>\n",
       "    <tr>\n",
       "      <th>...</th>\n",
       "      <td>...</td>\n",
       "      <td>...</td>\n",
       "      <td>...</td>\n",
       "    </tr>\n",
       "    <tr>\n",
       "      <th>297</th>\n",
       "      <td>Wallace, Theresa</td>\n",
       "      <td>5</td>\n",
       "      <td>2</td>\n",
       "    </tr>\n",
       "    <tr>\n",
       "      <th>298</th>\n",
       "      <td>Wang, Charlie</td>\n",
       "      <td>3</td>\n",
       "      <td>3</td>\n",
       "    </tr>\n",
       "    <tr>\n",
       "      <th>299</th>\n",
       "      <td>Warfield, Sarah</td>\n",
       "      <td>3</td>\n",
       "      <td>3</td>\n",
       "    </tr>\n",
       "    <tr>\n",
       "      <th>307</th>\n",
       "      <td>Ybarra, Catherine</td>\n",
       "      <td>5</td>\n",
       "      <td>1</td>\n",
       "    </tr>\n",
       "    <tr>\n",
       "      <th>309</th>\n",
       "      <td>Zhou, Julia</td>\n",
       "      <td>3</td>\n",
       "      <td>3</td>\n",
       "    </tr>\n",
       "  </tbody>\n",
       "</table>\n",
       "<p>80 rows × 3 columns</p>\n",
       "</div>"
      ],
      "text/plain": [
       "                Employee_Name  DeptID  PerfScoreID\n",
       "1    Ait Sidi, Karthikeyan          3            3\n",
       "6             Andreola, Colby       4            3\n",
       "9          Bacong, Alejandro        3            3\n",
       "18              Becker, Renee       3            3\n",
       "23             Blount, Dianna       5            2\n",
       "..                        ...     ...          ...\n",
       "297          Wallace, Theresa       5            2\n",
       "298             Wang, Charlie       3            3\n",
       "299           Warfield, Sarah       3            3\n",
       "307        Ybarra, Catherine        5            1\n",
       "309               Zhou, Julia       3            3\n",
       "\n",
       "[80 rows x 3 columns]"
      ]
     },
     "execution_count": 24,
     "metadata": {},
     "output_type": "execute_result"
    }
   ],
   "source": [
    "# Step 3 - filter the dataframe based on the selector \n",
    "df[row_selector][['Employee_Name','DeptID','PerfScoreID']]"
   ]
  },
  {
   "cell_type": "code",
   "execution_count": 25,
   "id": "43901a5f",
   "metadata": {},
   "outputs": [
    {
     "data": {
      "text/plain": [
       "Index(['Indeed', 'LinkedIn', 'Google Search', 'Employee Referral',\n",
       "       'Diversity Job Fair'],\n",
       "      dtype='object')"
      ]
     },
     "execution_count": 25,
     "metadata": {},
     "output_type": "execute_result"
    }
   ],
   "source": [
    "# Find the top 5 recruitment sources of the company\n",
    "rec_src = df['RecruitmentSource'].value_counts().head(5).index\n",
    "rec_src"
   ]
  },
  {
   "cell_type": "code",
   "execution_count": 26,
   "id": "9f5263ad",
   "metadata": {},
   "outputs": [
    {
     "data": {
      "text/plain": [
       "DeptID  RecruitmentSource \n",
       "1       Diversity Job Fair     4\n",
       "        Indeed                 2\n",
       "2       Indeed                 1\n",
       "3       Diversity Job Fair     4\n",
       "        Employee Referral     13\n",
       "        Google Search          1\n",
       "        Indeed                19\n",
       "        LinkedIn              11\n",
       "4       Diversity Job Fair     2\n",
       "        Google Search          2\n",
       "        Indeed                 3\n",
       "        LinkedIn               2\n",
       "5       Diversity Job Fair    17\n",
       "        Employee Referral     16\n",
       "        Google Search         44\n",
       "        Indeed                48\n",
       "        LinkedIn              61\n",
       "6       Diversity Job Fair     2\n",
       "        Employee Referral      2\n",
       "        Google Search          2\n",
       "        Indeed                14\n",
       "        LinkedIn               2\n",
       "Name: EmpID, dtype: int64"
      ]
     },
     "execution_count": 26,
     "metadata": {},
     "output_type": "execute_result"
    }
   ],
   "source": [
    "# find the number of employees per department from these recruiting sources\n",
    "df[df['RecruitmentSource'].isin(rec_src)].groupby(['DeptID','RecruitmentSource'])['EmpID'].count()"
   ]
  },
  {
   "cell_type": "code",
   "execution_count": 27,
   "id": "bcc7d60a",
   "metadata": {},
   "outputs": [
    {
     "data": {
      "text/plain": [
       "<AxesSubplot:xlabel='DeptID'>"
      ]
     },
     "execution_count": 27,
     "metadata": {},
     "output_type": "execute_result"
    },
    {
     "data": {
      "image/png": "[encoded data removed]",
      "text/plain": [
       "<Figure size 720x360 with 1 Axes>"
      ]
     },
     "metadata": {
      "needs_background": "light"
     },
     "output_type": "display_data"
    }
   ],
   "source": [
    "# Plot the above result\n",
    "# NOTE: the use of unstack function which converts one index level into columns\n",
    "df[df['RecruitmentSource'].isin(rec_src)] \\\n",
    "        .groupby(['DeptID','RecruitmentSource'])['EmpID'] \\\n",
    "        .count() \\\n",
    "        .unstack() \\\n",
    "        .plot(kind = 'bar', figsize = (10,5))"
   ]
  },
  {
   "cell_type": "code",
   "execution_count": 28,
   "id": "56cbc4fa",
   "metadata": {},
   "outputs": [
    {
     "data": {
      "text/plain": [
       "DeptID\n",
       "1    Diversity Job Fair\n",
       "2                Indeed\n",
       "3                Indeed\n",
       "4                Indeed\n",
       "5              LinkedIn\n",
       "6                Indeed\n",
       "Name: RecruitmentSource, dtype: object"
      ]
     },
     "execution_count": 28,
     "metadata": {},
     "output_type": "execute_result"
    }
   ],
   "source": [
    "# For each department, find the most popular Recruitment Source\n",
    "# using mode function is fast and concise\n",
    "\n",
    "df.groupby(['DeptID'])['RecruitmentSource'].agg(pd.Series.mode)"
   ]
  },
  {
   "cell_type": "code",
   "execution_count": 29,
   "id": "7fb672b0",
   "metadata": {},
   "outputs": [
    {
     "data": {
      "text/plain": [
       "DeptID\n",
       "1    Diversity Job Fair\n",
       "2                Indeed\n",
       "3                Indeed\n",
       "4                Indeed\n",
       "5              LinkedIn\n",
       "6                Indeed\n",
       "Name: RecruitmentSource, dtype: object"
      ]
     },
     "execution_count": 29,
     "metadata": {},
     "output_type": "execute_result"
    }
   ],
   "source": [
    "# Another way of doing the above - without mode\n",
    "df.groupby(['DeptID'])['RecruitmentSource'].agg(lambda x:x.value_counts().index[0])"
   ]
  },
  {
   "cell_type": "code",
   "execution_count": 30,
   "id": "6352c316",
   "metadata": {},
   "outputs": [
    {
     "data": {
      "text/plain": [
       "DeptID\n",
       "1    [Diversity Job Fair, Indeed]\n",
       "2                          Indeed\n",
       "3     [Indeed, Employee Referral]\n",
       "4              [Indeed, LinkedIn]\n",
       "5              [LinkedIn, Indeed]\n",
       "6               [Indeed, Website]\n",
       "Name: RecruitmentSource, dtype: object"
      ]
     },
     "execution_count": 30,
     "metadata": {},
     "output_type": "execute_result"
    }
   ],
   "source": [
    "# How to get the top 2 recruitment sources for each department\n",
    "df.groupby(['DeptID'])['RecruitmentSource'].agg(lambda x:x.value_counts().index[0:2])"
   ]
  },
  {
   "cell_type": "code",
   "execution_count": null,
   "id": "3ec05557",
   "metadata": {},
   "outputs": [],
   "source": []
  },
  {
   "cell_type": "code",
   "execution_count": null,
   "id": "4cc81d85",
   "metadata": {},
   "outputs": [],
   "source": []
  }
 ],
 "metadata": {
  "kernelspec": {
   "display_name": "venv",
   "language": "python",
   "name": "venv"
  },
  "language_info": {
   "codemirror_mode": {
    "name": "ipython",
    "version": 3
   },
   "file_extension": ".py",
   "mimetype": "text/x-python",
   "name": "python",
   "nbconvert_exporter": "python",
   "pygments_lexer": "ipython3",
   "version": "3.9.1"
  }
 },
 "nbformat": 4,
 "nbformat_minor": 5
}
